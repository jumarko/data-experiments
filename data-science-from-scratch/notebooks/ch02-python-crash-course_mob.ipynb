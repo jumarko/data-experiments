{
 "cells": [
  {
   "cell_type": "code",
   "execution_count": 4,
   "id": "19b0dcd2",
   "metadata": {},
   "outputs": [
    {
     "data": {
      "text/plain": [
       "3"
      ]
     },
     "execution_count": 4,
     "metadata": {},
     "output_type": "execute_result"
    }
   ],
   "source": [
    "1 + 2"
   ]
  },
  {
   "cell_type": "code",
   "execution_count": 8,
   "id": "14b03edd",
   "metadata": {},
   "outputs": [
    {
     "data": {
      "text/plain": [
       "'ahoj'"
      ]
     },
     "execution_count": 8,
     "metadata": {},
     "output_type": "execute_result"
    }
   ],
   "source": [
    "'ahoj' # use single quotes whenever possible"
   ]
  },
  {
   "cell_type": "code",
   "execution_count": 7,
   "id": "e65a1e0e",
   "metadata": {},
   "outputs": [
    {
     "data": {
      "text/plain": [
       "\"don't\""
      ]
     },
     "execution_count": 7,
     "metadata": {},
     "output_type": "execute_result"
    }
   ],
   "source": [
    "\"don't\""
   ]
  },
  {
   "cell_type": "code",
   "execution_count": 9,
   "id": "799d9c8e",
   "metadata": {},
   "outputs": [
    {
     "data": {
      "text/plain": [
       "int"
      ]
     },
     "execution_count": 9,
     "metadata": {},
     "output_type": "execute_result"
    }
   ],
   "source": [
    "type(1)"
   ]
  },
  {
   "cell_type": "code",
   "execution_count": 10,
   "id": "2a434138",
   "metadata": {},
   "outputs": [
    {
     "data": {
      "text/plain": [
       "float"
      ]
     },
     "execution_count": 10,
     "metadata": {},
     "output_type": "execute_result"
    }
   ],
   "source": [
    "type(1.0)"
   ]
  },
  {
   "cell_type": "code",
   "execution_count": 14,
   "id": "f33e6471",
   "metadata": {},
   "outputs": [
    {
     "data": {
      "text/plain": [
       "True"
      ]
     },
     "execution_count": 14,
     "metadata": {},
     "output_type": "execute_result"
    }
   ],
   "source": [
    "True or False"
   ]
  },
  {
   "cell_type": "code",
   "execution_count": 16,
   "id": "c1adea8e",
   "metadata": {},
   "outputs": [
    {
     "data": {
      "text/plain": [
       "bool"
      ]
     },
     "execution_count": 16,
     "metadata": {},
     "output_type": "execute_result"
    }
   ],
   "source": [
    "type(True)"
   ]
  },
  {
   "cell_type": "code",
   "execution_count": 18,
   "id": "6ccaa202",
   "metadata": {},
   "outputs": [
    {
     "data": {
      "text/plain": [
       "int"
      ]
     },
     "execution_count": 18,
     "metadata": {},
     "output_type": "execute_result"
    }
   ],
   "source": [
    "type(1236786347826384762784627836487263487)"
   ]
  },
  {
   "cell_type": "code",
   "execution_count": 22,
   "id": "05f095b5",
   "metadata": {},
   "outputs": [
    {
     "data": {
      "text/plain": [
       "True"
      ]
     },
     "execution_count": 22,
     "metadata": {},
     "output_type": "execute_result"
    }
   ],
   "source": [
    "True | False # prefer or, and, ..."
   ]
  },
  {
   "cell_type": "code",
   "execution_count": 28,
   "id": "aa066387",
   "metadata": {},
   "outputs": [
    {
     "name": "stdout",
     "output_type": "stream",
     "text": [
      "Then!\n"
     ]
    },
    {
     "data": {
      "text/plain": [
       "'End...'"
      ]
     },
     "execution_count": 28,
     "metadata": {},
     "output_type": "execute_result"
    }
   ],
   "source": [
    "if 1 < 4:\n",
    "    print(\"Then!\")\n",
    "    \"Then...\"\n",
    "else:\n",
    "    print(\"Else!\")\n",
    "\"End...\""
   ]
  },
  {
   "cell_type": "code",
   "execution_count": 29,
   "id": "9d11091f",
   "metadata": {},
   "outputs": [
    {
     "data": {
      "text/plain": [
       "30"
      ]
     },
     "execution_count": 29,
     "metadata": {},
     "output_type": "execute_result"
    }
   ],
   "source": [
    "def some_random(a, b):\n",
    "    return a + b\n",
    "\n",
    "some_random(10, 20)"
   ]
  },
  {
   "cell_type": "code",
   "execution_count": 1,
   "id": "ebc525bb",
   "metadata": {},
   "outputs": [
    {
     "ename": "ModuleNotFoundError",
     "evalue": "No module named 'pandas'",
     "output_type": "error",
     "traceback": [
      "\u001b[0;31m---------------------------------------------------------------------------\u001b[0m",
      "\u001b[0;31mModuleNotFoundError\u001b[0m                       Traceback (most recent call last)",
      "Input \u001b[0;32mIn [1]\u001b[0m, in \u001b[0;36m<cell line: 1>\u001b[0;34m()\u001b[0m\n\u001b[0;32m----> 1\u001b[0m \u001b[38;5;28;01mimport\u001b[39;00m \u001b[38;5;21;01mpandas\u001b[39;00m \u001b[38;5;28;01mas\u001b[39;00m \u001b[38;5;21;01mpd\u001b[39;00m\n",
      "\u001b[0;31mModuleNotFoundError\u001b[0m: No module named 'pandas'"
     ]
    }
   ],
   "source": [
    "import pandas as pd\n"
   ]
  },
  {
   "cell_type": "code",
   "execution_count": 4,
   "id": "cc426b37",
   "metadata": {},
   "outputs": [
    {
     "data": {
      "text/html": [
       "<div>\n",
       "<style scoped>\n",
       "    .dataframe tbody tr th:only-of-type {\n",
       "        vertical-align: middle;\n",
       "    }\n",
       "\n",
       "    .dataframe tbody tr th {\n",
       "        vertical-align: top;\n",
       "    }\n",
       "\n",
       "    .dataframe thead th {\n",
       "        text-align: right;\n",
       "    }\n",
       "</style>\n",
       "<table border=\"1\" class=\"dataframe\">\n",
       "  <thead>\n",
       "    <tr style=\"text-align: right;\">\n",
       "      <th></th>\n",
       "      <th>geography</th>\n",
       "      <th>geography_type</th>\n",
       "      <th>year</th>\n",
       "      <th>less_than_high_school_graduate</th>\n",
       "      <th>high_school_graduate</th>\n",
       "      <th>some_college_or_associate_s_degree</th>\n",
       "      <th>bachelor_s_degree_or_higher</th>\n",
       "      <th>location_1</th>\n",
       "      <th>:@computed_region_uph5_8hpn</th>\n",
       "      <th>:@computed_region_i2t2_cryp</th>\n",
       "    </tr>\n",
       "  </thead>\n",
       "  <tbody>\n",
       "    <tr>\n",
       "      <th>0</th>\n",
       "      <td>Atherton</td>\n",
       "      <td>Town</td>\n",
       "      <td>2014-01-01T00:00:00.000</td>\n",
       "      <td>13.6</td>\n",
       "      <td>12.3</td>\n",
       "      <td>2.7</td>\n",
       "      <td>3.5</td>\n",
       "      <td>{'type': 'Point', 'coordinates': [-122.2, 37.4...</td>\n",
       "      <td>2.0</td>\n",
       "      <td>28596</td>\n",
       "    </tr>\n",
       "    <tr>\n",
       "      <th>1</th>\n",
       "      <td>Colma</td>\n",
       "      <td>Town</td>\n",
       "      <td>2014-01-01T00:00:00.000</td>\n",
       "      <td>6.3</td>\n",
       "      <td>6.4</td>\n",
       "      <td>10.4</td>\n",
       "      <td>2.4</td>\n",
       "      <td>{'type': 'Point', 'coordinates': [-122.455556,...</td>\n",
       "      <td>4.0</td>\n",
       "      <td>28588</td>\n",
       "    </tr>\n",
       "    <tr>\n",
       "      <th>2</th>\n",
       "      <td>Foster City</td>\n",
       "      <td>City</td>\n",
       "      <td>2014-01-01T00:00:00.000</td>\n",
       "      <td>11.9</td>\n",
       "      <td>9.7</td>\n",
       "      <td>2.0</td>\n",
       "      <td>2.9</td>\n",
       "      <td>{'type': 'Point', 'coordinates': [-122.266389,...</td>\n",
       "      <td>6.0</td>\n",
       "      <td>319</td>\n",
       "    </tr>\n",
       "    <tr>\n",
       "      <th>3</th>\n",
       "      <td>Portola Valley</td>\n",
       "      <td>Town</td>\n",
       "      <td>2014-01-01T00:00:00.000</td>\n",
       "      <td>48.1</td>\n",
       "      <td>0.0</td>\n",
       "      <td>0.0</td>\n",
       "      <td>1.8</td>\n",
       "      <td>{'type': 'Point', 'coordinates': [-122.218611,...</td>\n",
       "      <td>14.0</td>\n",
       "      <td>28597</td>\n",
       "    </tr>\n",
       "    <tr>\n",
       "      <th>4</th>\n",
       "      <td>Redwood City</td>\n",
       "      <td>City</td>\n",
       "      <td>2014-01-01T00:00:00.000</td>\n",
       "      <td>16.4</td>\n",
       "      <td>10.6</td>\n",
       "      <td>6.6</td>\n",
       "      <td>3.0</td>\n",
       "      <td>{'type': 'Point', 'coordinates': [-122.236111,...</td>\n",
       "      <td>21.0</td>\n",
       "      <td>28607</td>\n",
       "    </tr>\n",
       "  </tbody>\n",
       "</table>\n",
       "</div>"
      ],
      "text/plain": [
       "        geography geography_type                     year  \\\n",
       "0        Atherton           Town  2014-01-01T00:00:00.000   \n",
       "1           Colma           Town  2014-01-01T00:00:00.000   \n",
       "2     Foster City           City  2014-01-01T00:00:00.000   \n",
       "3  Portola Valley           Town  2014-01-01T00:00:00.000   \n",
       "4    Redwood City           City  2014-01-01T00:00:00.000   \n",
       "\n",
       "   less_than_high_school_graduate  high_school_graduate  \\\n",
       "0                            13.6                  12.3   \n",
       "1                             6.3                   6.4   \n",
       "2                            11.9                   9.7   \n",
       "3                            48.1                   0.0   \n",
       "4                            16.4                  10.6   \n",
       "\n",
       "   some_college_or_associate_s_degree  bachelor_s_degree_or_higher  \\\n",
       "0                                 2.7                          3.5   \n",
       "1                                10.4                          2.4   \n",
       "2                                 2.0                          2.9   \n",
       "3                                 0.0                          1.8   \n",
       "4                                 6.6                          3.0   \n",
       "\n",
       "                                          location_1  \\\n",
       "0  {'type': 'Point', 'coordinates': [-122.2, 37.4...   \n",
       "1  {'type': 'Point', 'coordinates': [-122.455556,...   \n",
       "2  {'type': 'Point', 'coordinates': [-122.266389,...   \n",
       "3  {'type': 'Point', 'coordinates': [-122.218611,...   \n",
       "4  {'type': 'Point', 'coordinates': [-122.236111,...   \n",
       "\n",
       "   :@computed_region_uph5_8hpn  :@computed_region_i2t2_cryp  \n",
       "0                          2.0                        28596  \n",
       "1                          4.0                        28588  \n",
       "2                          6.0                          319  \n",
       "3                         14.0                        28597  \n",
       "4                         21.0                        28607  "
      ]
     },
     "execution_count": 4,
     "metadata": {},
     "output_type": "execute_result"
    }
   ],
   "source": [
    "df = pd.read_json(\"https://data.smcgov.org/resource/mb6a-xn89.json\")\n",
    "\n",
    "df.head(5)\n"
   ]
  },
  {
   "cell_type": "code",
   "execution_count": 12,
   "id": "1c2337c1",
   "metadata": {},
   "outputs": [
    {
     "data": {
      "text/html": [
       "<div>\n",
       "<style scoped>\n",
       "    .dataframe tbody tr th:only-of-type {\n",
       "        vertical-align: middle;\n",
       "    }\n",
       "\n",
       "    .dataframe tbody tr th {\n",
       "        vertical-align: top;\n",
       "    }\n",
       "\n",
       "    .dataframe thead th {\n",
       "        text-align: right;\n",
       "    }\n",
       "</style>\n",
       "<table border=\"1\" class=\"dataframe\">\n",
       "  <thead>\n",
       "    <tr style=\"text-align: right;\">\n",
       "      <th></th>\n",
       "      <th>geography</th>\n",
       "      <th>geography_type</th>\n",
       "      <th>year</th>\n",
       "      <th>less_than_high_school_graduate</th>\n",
       "      <th>high_school_graduate</th>\n",
       "      <th>some_college_or_associate_s_degree</th>\n",
       "      <th>bachelor_s_degree_or_higher</th>\n",
       "      <th>location_1</th>\n",
       "      <th>:@computed_region_uph5_8hpn</th>\n",
       "      <th>:@computed_region_i2t2_cryp</th>\n",
       "    </tr>\n",
       "  </thead>\n",
       "  <tbody>\n",
       "    <tr>\n",
       "      <th>10</th>\n",
       "      <td>San Mateo</td>\n",
       "      <td>City</td>\n",
       "      <td>2014-01-01T00:00:00.000</td>\n",
       "      <td>16.1</td>\n",
       "      <td>9.6</td>\n",
       "      <td>6.5</td>\n",
       "      <td>3.4</td>\n",
       "      <td>{'type': 'Point', 'coordinates': [-122.313056,...</td>\n",
       "      <td>13.0</td>\n",
       "      <td>317</td>\n",
       "    </tr>\n",
       "    <tr>\n",
       "      <th>11</th>\n",
       "      <td>North Fair Oaks</td>\n",
       "      <td>CDP</td>\n",
       "      <td>2014-01-01T00:00:00.000</td>\n",
       "      <td>26.7</td>\n",
       "      <td>13.4</td>\n",
       "      <td>18.5</td>\n",
       "      <td>4.6</td>\n",
       "      <td>{'type': 'Point', 'coordinates': [-122.203611,...</td>\n",
       "      <td>31.0</td>\n",
       "      <td>28608</td>\n",
       "    </tr>\n",
       "    <tr>\n",
       "      <th>12</th>\n",
       "      <td>Emerald Lake Hills</td>\n",
       "      <td>CDP</td>\n",
       "      <td>2014-01-01T00:00:00.000</td>\n",
       "      <td>6.2</td>\n",
       "      <td>2.0</td>\n",
       "      <td>4.1</td>\n",
       "      <td>2.2</td>\n",
       "      <td>{'type': 'Point', 'coordinates': [-122.266389,...</td>\n",
       "      <td>24.0</td>\n",
       "      <td>28607</td>\n",
       "    </tr>\n",
       "    <tr>\n",
       "      <th>13</th>\n",
       "      <td>Hillsborough</td>\n",
       "      <td>Town</td>\n",
       "      <td>2014-01-01T00:00:00.000</td>\n",
       "      <td>31.1</td>\n",
       "      <td>6.1</td>\n",
       "      <td>1.5</td>\n",
       "      <td>1.4</td>\n",
       "      <td>{'type': 'Point', 'coordinates': [-122.356389,...</td>\n",
       "      <td>8.0</td>\n",
       "      <td>28587</td>\n",
       "    </tr>\n",
       "    <tr>\n",
       "      <th>14</th>\n",
       "      <td>Brisbane</td>\n",
       "      <td>City</td>\n",
       "      <td>2014-01-01T00:00:00.000</td>\n",
       "      <td>0.0</td>\n",
       "      <td>1.7</td>\n",
       "      <td>11.5</td>\n",
       "      <td>3.3</td>\n",
       "      <td>{'type': 'Point', 'coordinates': [-122.419167,...</td>\n",
       "      <td>NaN</td>\n",
       "      <td>28586</td>\n",
       "    </tr>\n",
       "    <tr>\n",
       "      <th>15</th>\n",
       "      <td>Menlo Park</td>\n",
       "      <td>City</td>\n",
       "      <td>2014-01-01T00:00:00.000</td>\n",
       "      <td>22.1</td>\n",
       "      <td>12.0</td>\n",
       "      <td>8.7</td>\n",
       "      <td>2.9</td>\n",
       "      <td>{'type': 'Point', 'coordinates': [-122.183333,...</td>\n",
       "      <td>12.0</td>\n",
       "      <td>28595</td>\n",
       "    </tr>\n",
       "    <tr>\n",
       "      <th>16</th>\n",
       "      <td>Pacifica</td>\n",
       "      <td>City</td>\n",
       "      <td>2014-01-01T00:00:00.000</td>\n",
       "      <td>15.1</td>\n",
       "      <td>4.3</td>\n",
       "      <td>4.3</td>\n",
       "      <td>4.6</td>\n",
       "      <td>{'type': 'Point', 'coordinates': [-122.485556,...</td>\n",
       "      <td>9.0</td>\n",
       "      <td>28604</td>\n",
       "    </tr>\n",
       "    <tr>\n",
       "      <th>17</th>\n",
       "      <td>San Carlos</td>\n",
       "      <td>City</td>\n",
       "      <td>2014-01-01T00:00:00.000</td>\n",
       "      <td>8.5</td>\n",
       "      <td>8.4</td>\n",
       "      <td>4.4</td>\n",
       "      <td>2.3</td>\n",
       "      <td>{'type': 'Point', 'coordinates': [-122.2668, 3...</td>\n",
       "      <td>18.0</td>\n",
       "      <td>28611</td>\n",
       "    </tr>\n",
       "    <tr>\n",
       "      <th>18</th>\n",
       "      <td>Highlands-Baywood Park</td>\n",
       "      <td>CDP</td>\n",
       "      <td>2014-01-01T00:00:00.000</td>\n",
       "      <td>15.7</td>\n",
       "      <td>13.6</td>\n",
       "      <td>10.2</td>\n",
       "      <td>3.3</td>\n",
       "      <td>{'type': 'Point', 'coordinates': [-122.343333,...</td>\n",
       "      <td>25.0</td>\n",
       "      <td>317</td>\n",
       "    </tr>\n",
       "    <tr>\n",
       "      <th>19</th>\n",
       "      <td>East Palo Alto</td>\n",
       "      <td>City</td>\n",
       "      <td>2014-01-01T00:00:00.000</td>\n",
       "      <td>18.3</td>\n",
       "      <td>16.4</td>\n",
       "      <td>17.2</td>\n",
       "      <td>9.1</td>\n",
       "      <td>{'type': 'Point', 'coordinates': [-122.139722,...</td>\n",
       "      <td>5.0</td>\n",
       "      <td>312</td>\n",
       "    </tr>\n",
       "  </tbody>\n",
       "</table>\n",
       "</div>"
      ],
      "text/plain": [
       "                 geography geography_type                     year  \\\n",
       "10               San Mateo           City  2014-01-01T00:00:00.000   \n",
       "11         North Fair Oaks            CDP  2014-01-01T00:00:00.000   \n",
       "12      Emerald Lake Hills            CDP  2014-01-01T00:00:00.000   \n",
       "13            Hillsborough           Town  2014-01-01T00:00:00.000   \n",
       "14                Brisbane           City  2014-01-01T00:00:00.000   \n",
       "15              Menlo Park           City  2014-01-01T00:00:00.000   \n",
       "16                Pacifica           City  2014-01-01T00:00:00.000   \n",
       "17              San Carlos           City  2014-01-01T00:00:00.000   \n",
       "18  Highlands-Baywood Park            CDP  2014-01-01T00:00:00.000   \n",
       "19          East Palo Alto           City  2014-01-01T00:00:00.000   \n",
       "\n",
       "    less_than_high_school_graduate  high_school_graduate  \\\n",
       "10                            16.1                   9.6   \n",
       "11                            26.7                  13.4   \n",
       "12                             6.2                   2.0   \n",
       "13                            31.1                   6.1   \n",
       "14                             0.0                   1.7   \n",
       "15                            22.1                  12.0   \n",
       "16                            15.1                   4.3   \n",
       "17                             8.5                   8.4   \n",
       "18                            15.7                  13.6   \n",
       "19                            18.3                  16.4   \n",
       "\n",
       "    some_college_or_associate_s_degree  bachelor_s_degree_or_higher  \\\n",
       "10                                 6.5                          3.4   \n",
       "11                                18.5                          4.6   \n",
       "12                                 4.1                          2.2   \n",
       "13                                 1.5                          1.4   \n",
       "14                                11.5                          3.3   \n",
       "15                                 8.7                          2.9   \n",
       "16                                 4.3                          4.6   \n",
       "17                                 4.4                          2.3   \n",
       "18                                10.2                          3.3   \n",
       "19                                17.2                          9.1   \n",
       "\n",
       "                                           location_1  \\\n",
       "10  {'type': 'Point', 'coordinates': [-122.313056,...   \n",
       "11  {'type': 'Point', 'coordinates': [-122.203611,...   \n",
       "12  {'type': 'Point', 'coordinates': [-122.266389,...   \n",
       "13  {'type': 'Point', 'coordinates': [-122.356389,...   \n",
       "14  {'type': 'Point', 'coordinates': [-122.419167,...   \n",
       "15  {'type': 'Point', 'coordinates': [-122.183333,...   \n",
       "16  {'type': 'Point', 'coordinates': [-122.485556,...   \n",
       "17  {'type': 'Point', 'coordinates': [-122.2668, 3...   \n",
       "18  {'type': 'Point', 'coordinates': [-122.343333,...   \n",
       "19  {'type': 'Point', 'coordinates': [-122.139722,...   \n",
       "\n",
       "    :@computed_region_uph5_8hpn  :@computed_region_i2t2_cryp  \n",
       "10                         13.0                          317  \n",
       "11                         31.0                        28608  \n",
       "12                         24.0                        28607  \n",
       "13                          8.0                        28587  \n",
       "14                          NaN                        28586  \n",
       "15                         12.0                        28595  \n",
       "16                          9.0                        28604  \n",
       "17                         18.0                        28611  \n",
       "18                         25.0                          317  \n",
       "19                          5.0                          312  "
      ]
     },
     "execution_count": 12,
     "metadata": {},
     "output_type": "execute_result"
    }
   ],
   "source": [
    "df[10:20]\n",
    "\n"
   ]
  },
  {
   "cell_type": "code",
   "execution_count": 4,
   "id": "c7f5876e",
   "metadata": {},
   "outputs": [
    {
     "data": {
      "text/plain": [
       "'Joseph Fahey'"
      ]
     },
     "execution_count": 4,
     "metadata": {},
     "output_type": "execute_result"
    }
   ],
   "source": [
    "first_name = \"Joseph\"\n",
    "last_name = \"Fahey\"\n",
    "\n",
    "full_name = f\"{first_name} {last_name}\"\n",
    "full_name"
   ]
  },
  {
   "cell_type": "markdown",
   "id": "49aaf994",
   "metadata": {},
   "source": [
    "## Exceptions"
   ]
  },
  {
   "cell_type": "code",
   "execution_count": 5,
   "id": "a043da6b",
   "metadata": {},
   "outputs": [
    {
     "name": "stdout",
     "output_type": "stream",
     "text": [
      "cannot divide\n"
     ]
    }
   ],
   "source": [
    "try:\n",
    "    print(0 / 0)\n",
    "    \n",
    "except ZeroDivisionError:\n",
    "    print(\"cannot divide\")"
   ]
  },
  {
   "cell_type": "markdown",
   "id": "faffd2e4",
   "metadata": {},
   "source": [
    "### try-except-else-finally\n",
    "https://www.geeksforgeeks.org/try-except-else-and-finally-in-python/"
   ]
  },
  {
   "cell_type": "code",
   "execution_count": 7,
   "id": "ddd8935b",
   "metadata": {},
   "outputs": [
    {
     "data": {
      "text/plain": [
       "(KeyError, ValueError)"
      ]
     },
     "execution_count": 7,
     "metadata": {},
     "output_type": "execute_result"
    }
   ],
   "source": [
    "# common exceptions\n",
    "KeyError, ValueError"
   ]
  },
  {
   "cell_type": "markdown",
   "id": "92890030",
   "metadata": {},
   "source": [
    "## Lists & Tuples"
   ]
  },
  {
   "cell_type": "code",
   "execution_count": 10,
   "id": "37bb4d3f",
   "metadata": {},
   "outputs": [
    {
     "data": {
      "text/plain": [
       "['string', 0.1, True]"
      ]
     },
     "execution_count": 10,
     "metadata": {},
     "output_type": "execute_result"
    }
   ],
   "source": [
    "alist = [\"string\", 0.1, True]\n",
    "alist"
   ]
  },
  {
   "cell_type": "code",
   "execution_count": 11,
   "id": "0bbdc83e",
   "metadata": {},
   "outputs": [
    {
     "data": {
      "text/plain": [
       "['string', 0.1]"
      ]
     },
     "execution_count": 11,
     "metadata": {},
     "output_type": "execute_result"
    }
   ],
   "source": [
    "alist[:2]"
   ]
  },
  {
   "cell_type": "code",
   "execution_count": 12,
   "id": "5665d0e9",
   "metadata": {},
   "outputs": [
    {
     "data": {
      "text/plain": [
       "[0.1, True]"
      ]
     },
     "execution_count": 12,
     "metadata": {},
     "output_type": "execute_result"
    }
   ],
   "source": [
    "alist[1:]"
   ]
  },
  {
   "cell_type": "code",
   "execution_count": 13,
   "id": "b585b06f",
   "metadata": {},
   "outputs": [
    {
     "data": {
      "text/plain": [
       "[True]"
      ]
     },
     "execution_count": 13,
     "metadata": {},
     "output_type": "execute_result"
    }
   ],
   "source": [
    "alist[2:3]"
   ]
  },
  {
   "cell_type": "code",
   "execution_count": 14,
   "id": "a1210425",
   "metadata": {},
   "outputs": [
    {
     "data": {
      "text/plain": [
       "0.1"
      ]
     },
     "execution_count": 14,
     "metadata": {},
     "output_type": "execute_result"
    }
   ],
   "source": [
    "alist[-2]"
   ]
  },
  {
   "cell_type": "code",
   "execution_count": 16,
   "id": "b8cee2a4",
   "metadata": {},
   "outputs": [
    {
     "data": {
      "text/plain": [
       "['string', 0.1]"
      ]
     },
     "execution_count": 16,
     "metadata": {},
     "output_type": "execute_result"
    }
   ],
   "source": [
    "alist[:-1]"
   ]
  },
  {
   "cell_type": "code",
   "execution_count": 17,
   "id": "70cef557",
   "metadata": {},
   "outputs": [
    {
     "data": {
      "text/plain": [
       "[True, 0.1, 'string']"
      ]
     },
     "execution_count": 17,
     "metadata": {},
     "output_type": "execute_result"
    }
   ],
   "source": [
    "alist[::-1]"
   ]
  },
  {
   "cell_type": "code",
   "execution_count": 18,
   "id": "388253a8",
   "metadata": {},
   "outputs": [
    {
     "data": {
      "text/plain": [
       "[True, 'string']"
      ]
     },
     "execution_count": 18,
     "metadata": {},
     "output_type": "execute_result"
    }
   ],
   "source": [
    "alist[::-2]"
   ]
  },
  {
   "cell_type": "code",
   "execution_count": 19,
   "id": "542c2f7b",
   "metadata": {},
   "outputs": [
    {
     "data": {
      "text/plain": [
       "['string', True]"
      ]
     },
     "execution_count": 19,
     "metadata": {},
     "output_type": "execute_result"
    }
   ],
   "source": [
    "alist[::2]"
   ]
  },
  {
   "cell_type": "code",
   "execution_count": 21,
   "id": "eed4cf14",
   "metadata": {},
   "outputs": [
    {
     "data": {
      "text/plain": [
       "['string', 0.1, True, 10, 20]"
      ]
     },
     "execution_count": 21,
     "metadata": {},
     "output_type": "execute_result"
    }
   ],
   "source": [
    "alist.extend([10,20])\n",
    "alist"
   ]
  },
  {
   "cell_type": "code",
   "execution_count": 22,
   "id": "8e43da39",
   "metadata": {},
   "outputs": [
    {
     "data": {
      "text/plain": [
       "['string', 0.1, True, 10, 20, 100]"
      ]
     },
     "execution_count": 22,
     "metadata": {},
     "output_type": "execute_result"
    }
   ],
   "source": [
    "alist.append(100)\n",
    "alist"
   ]
  },
  {
   "cell_type": "code",
   "execution_count": 24,
   "id": "e22b94c6",
   "metadata": {},
   "outputs": [
    {
     "data": {
      "text/plain": [
       "[1, 2]"
      ]
     },
     "execution_count": 24,
     "metadata": {},
     "output_type": "execute_result"
    }
   ],
   "source": [
    "x, y = [1, 2]\n",
    "[x, y]"
   ]
  },
  {
   "cell_type": "code",
   "execution_count": 26,
   "id": "499ec60c",
   "metadata": {},
   "outputs": [
    {
     "ename": "ValueError",
     "evalue": "too many values to unpack (expected 2)",
     "output_type": "error",
     "traceback": [
      "\u001b[0;31m---------------------------------------------------------------------------\u001b[0m",
      "\u001b[0;31mValueError\u001b[0m                                Traceback (most recent call last)",
      "Input \u001b[0;32mIn [26]\u001b[0m, in \u001b[0;36m<cell line: 1>\u001b[0;34m()\u001b[0m\n\u001b[0;32m----> 1\u001b[0m x, y \u001b[38;5;241m=\u001b[39m [\u001b[38;5;241m1\u001b[39m,\u001b[38;5;241m2\u001b[39m,\u001b[38;5;241m3\u001b[39m]\n",
      "\u001b[0;31mValueError\u001b[0m: too many values to unpack (expected 2)"
     ]
    }
   ],
   "source": [
    "x, y = [1,2,3]"
   ]
  },
  {
   "cell_type": "code",
   "execution_count": 27,
   "id": "03225254",
   "metadata": {},
   "outputs": [
    {
     "name": "stdout",
     "output_type": "stream",
     "text": [
      "cannot modify\n"
     ]
    }
   ],
   "source": [
    "### Tuples are immutable\n",
    "\n",
    "my_tuple = (1,2)\n",
    "try:\n",
    "    my_tuple[1] = 3\n",
    "except TypeError:\n",
    "    print(\"cannot modify\")"
   ]
  },
  {
   "cell_type": "markdown",
   "id": "396519c2",
   "metadata": {},
   "source": [
    "## Dictionaries"
   ]
  },
  {
   "cell_type": "code",
   "execution_count": 28,
   "id": "cb28dfc4",
   "metadata": {},
   "outputs": [
    {
     "data": {
      "text/plain": [
       "80"
      ]
     },
     "execution_count": 28,
     "metadata": {},
     "output_type": "execute_result"
    }
   ],
   "source": [
    "grades = {\"Joel\" : 80, \"Tim\" : 95}\n",
    "grades[\"Joel\"]"
   ]
  },
  {
   "cell_type": "code",
   "execution_count": 29,
   "id": "9ed27bd8",
   "metadata": {},
   "outputs": [
    {
     "ename": "KeyError",
     "evalue": "'anything'",
     "output_type": "error",
     "traceback": [
      "\u001b[0;31m---------------------------------------------------------------------------\u001b[0m",
      "\u001b[0;31mKeyError\u001b[0m                                  Traceback (most recent call last)",
      "Input \u001b[0;32mIn [29]\u001b[0m, in \u001b[0;36m<cell line: 1>\u001b[0;34m()\u001b[0m\n\u001b[0;32m----> 1\u001b[0m \u001b[43mgrades\u001b[49m\u001b[43m[\u001b[49m\u001b[38;5;124;43m'\u001b[39;49m\u001b[38;5;124;43manything\u001b[39;49m\u001b[38;5;124;43m'\u001b[39;49m\u001b[43m]\u001b[49m\n",
      "\u001b[0;31mKeyError\u001b[0m: 'anything'"
     ]
    }
   ],
   "source": [
    "grades['anything']"
   ]
  },
  {
   "cell_type": "code",
   "execution_count": 30,
   "id": "b52e642e",
   "metadata": {},
   "outputs": [
    {
     "data": {
      "text/plain": [
       "0"
      ]
     },
     "execution_count": 30,
     "metadata": {},
     "output_type": "execute_result"
    }
   ],
   "source": [
    "grades.get(\"anything\", 0)"
   ]
  },
  {
   "cell_type": "code",
   "execution_count": 31,
   "id": "07d63f30",
   "metadata": {},
   "outputs": [
    {
     "data": {
      "text/plain": [
       "dict_items([('Joel', 80), ('Tim', 95)])"
      ]
     },
     "execution_count": 31,
     "metadata": {},
     "output_type": "execute_result"
    }
   ],
   "source": [
    "grades.items()"
   ]
  },
  {
   "cell_type": "markdown",
   "id": "9aaa24b7",
   "metadata": {},
   "source": [
    "### defaultdict"
   ]
  },
  {
   "cell_type": "code",
   "execution_count": 38,
   "id": "bdac9f51",
   "metadata": {},
   "outputs": [
    {
     "data": {
      "text/plain": [
       "defaultdict(int, {})"
      ]
     },
     "execution_count": 38,
     "metadata": {},
     "output_type": "execute_result"
    }
   ],
   "source": [
    "from collections import defaultdict\n",
    "\n",
    "word_counts = defaultdict(int)\n",
    "word_counts"
   ]
  },
  {
   "cell_type": "code",
   "execution_count": 39,
   "id": "ec2dd243",
   "metadata": {},
   "outputs": [
    {
     "data": {
      "text/plain": [
       "defaultdict(int, {'ahoj': 1, 'hello': 1, 'whatever': 1})"
      ]
     },
     "execution_count": 39,
     "metadata": {},
     "output_type": "execute_result"
    }
   ],
   "source": [
    "for word in [\"ahoj\", \"hello\", \"whatever\"]:\n",
    "    word_counts[word] += 1\n",
    "    \n",
    "word_counts"
   ]
  },
  {
   "cell_type": "markdown",
   "id": "24e61c4f",
   "metadata": {},
   "source": [
    "### Counter"
   ]
  },
  {
   "cell_type": "code",
   "execution_count": 40,
   "id": "512505a2",
   "metadata": {},
   "outputs": [
    {
     "data": {
      "text/plain": [
       "Counter({0: 2, 1: 1, 2: 1})"
      ]
     },
     "execution_count": 40,
     "metadata": {},
     "output_type": "execute_result"
    }
   ],
   "source": [
    "from collections import Counter\n",
    "\n",
    "c = Counter([0,1,2,0])\n",
    "c"
   ]
  },
  {
   "cell_type": "markdown",
   "id": "4cc6ecec",
   "metadata": {},
   "source": [
    "## Truthiness\n",
    "\n"
   ]
  },
  {
   "cell_type": "code",
   "execution_count": 43,
   "id": "8ab6126e",
   "metadata": {},
   "outputs": [
    {
     "data": {
      "text/plain": [
       "[True, False, False, False, False, False, True, True]"
      ]
     },
     "execution_count": 43,
     "metadata": {},
     "output_type": "execute_result"
    }
   ],
   "source": [
    "[x == False for x in [False, None, [], {}, \"\", set(), 0, 0.0]]"
   ]
  },
  {
   "cell_type": "code",
   "execution_count": 51,
   "id": "87f741b3",
   "metadata": {},
   "outputs": [
    {
     "name": "stdout",
     "output_type": "stream",
     "text": [
      "false\n"
     ]
    }
   ],
   "source": [
    "if []:\n",
    "    print(\"true\")\n",
    "else:\n",
    "    print(\"false\")"
   ]
  },
  {
   "cell_type": "code",
   "execution_count": 46,
   "id": "791fa37e",
   "metadata": {},
   "outputs": [
    {
     "data": {
      "text/plain": [
       "[True, False, False, False, False, False, False, False]"
      ]
     },
     "execution_count": 46,
     "metadata": {},
     "output_type": "execute_result"
    }
   ],
   "source": [
    "[x is False for x in [False, None, [], {}, \"\", set(), 0, 0.0]]"
   ]
  },
  {
   "cell_type": "code",
   "execution_count": 52,
   "id": "4117a4fc",
   "metadata": {},
   "outputs": [
    {
     "data": {
      "text/plain": [
       "True"
      ]
     },
     "execution_count": 52,
     "metadata": {},
     "output_type": "execute_result"
    }
   ],
   "source": [
    "all([True, 1, {3}])"
   ]
  },
  {
   "cell_type": "code",
   "execution_count": 54,
   "id": "97d3ba41",
   "metadata": {},
   "outputs": [
    {
     "data": {
      "text/plain": [
       "[2, 3, 4]"
      ]
     },
     "execution_count": 54,
     "metadata": {},
     "output_type": "execute_result"
    }
   ],
   "source": [
    "list(map(lambda x: x+1, [1,2,3]))"
   ]
  },
  {
   "cell_type": "markdown",
   "id": "da86cfb2",
   "metadata": {},
   "source": [
    "### filter via list comprehensions"
   ]
  },
  {
   "cell_type": "code",
   "execution_count": 57,
   "id": "2dded8a5",
   "metadata": {},
   "outputs": [
    {
     "data": {
      "text/plain": [
       "[False]"
      ]
     },
     "execution_count": 57,
     "metadata": {},
     "output_type": "execute_result"
    }
   ],
   "source": [
    "[x for x in [False, None, [], {}, \"\", set(), 0, 0.0]\n",
    "     if x is False]"
   ]
  },
  {
   "cell_type": "markdown",
   "id": "5b93607d",
   "metadata": {},
   "source": [
    "## MISC"
   ]
  },
  {
   "cell_type": "code",
   "execution_count": 58,
   "id": "fcb7127d",
   "metadata": {},
   "outputs": [
    {
     "data": {
      "text/plain": [
       "-1"
      ]
     },
     "execution_count": 58,
     "metadata": {},
     "output_type": "execute_result"
    }
   ],
   "source": [
    "### assert\n",
    "\n",
    "def smallest_item(xs):\n",
    "    return min(xs)\n",
    "\n",
    "smallest_item([10,-1,0,5])"
   ]
  },
  {
   "cell_type": "code",
   "execution_count": 7,
   "id": "24621da4",
   "metadata": {},
   "outputs": [
    {
     "name": "stdout",
     "output_type": "stream",
     "text": [
      "Clojure 1.11.1\n",
      "user=> user=> #'user/my-min\n",
      "user=> user=> -1\n",
      "user=> user=> nil\n",
      "user=> user=> nil\n",
      "user=> \n"
     ]
    }
   ],
   "source": [
    "%%script clj\n",
    "\n",
    "(defn my-min [xs] (apply min xs))\n",
    "\n",
    "(my-min [10 -1 0 5])\n",
    "\n",
    "(assert (= -1 \n",
    "           (my-min [10 -1 0 5])))\n",
    "\n",
    "(comment\n",
    "   (my-min [10 -1 0 5])\n",
    "    ;;=> -1\n",
    ")"
   ]
  },
  {
   "cell_type": "code",
   "execution_count": 4,
   "id": "f2766549",
   "metadata": {},
   "outputs": [
    {
     "data": {
      "text/plain": [
       "30"
      ]
     },
     "execution_count": 4,
     "metadata": {},
     "output_type": "execute_result"
    }
   ],
   "source": [
    "### Type annotations\n",
    "\n",
    "def add(a:int, b: int) -> int:\n",
    "    return a + b\n",
    "add(10,20)"
   ]
  },
  {
   "cell_type": "code",
   "execution_count": 61,
   "id": "b45e7db1",
   "metadata": {},
   "outputs": [
    {
     "ename": "TypeError",
     "evalue": "unsupported operand type(s) for +: 'int' and 'str'",
     "output_type": "error",
     "traceback": [
      "\u001b[0;31m---------------------------------------------------------------------------\u001b[0m",
      "\u001b[0;31mTypeError\u001b[0m                                 Traceback (most recent call last)",
      "Input \u001b[0;32mIn [61]\u001b[0m, in \u001b[0;36m<cell line: 1>\u001b[0;34m()\u001b[0m\n\u001b[0;32m----> 1\u001b[0m \u001b[43madd\u001b[49m\u001b[43m(\u001b[49m\u001b[38;5;241;43m10\u001b[39;49m\u001b[43m,\u001b[49m\u001b[43m \u001b[49m\u001b[38;5;124;43m\"\u001b[39;49m\u001b[38;5;124;43ma\u001b[39;49m\u001b[38;5;124;43m\"\u001b[39;49m\u001b[43m)\u001b[49m\n",
      "Input \u001b[0;32mIn [60]\u001b[0m, in \u001b[0;36madd\u001b[0;34m(a, b)\u001b[0m\n\u001b[1;32m      3\u001b[0m \u001b[38;5;28;01mdef\u001b[39;00m \u001b[38;5;21madd\u001b[39m(a:\u001b[38;5;28mint\u001b[39m, b: \u001b[38;5;28mint\u001b[39m) \u001b[38;5;241m-\u001b[39m\u001b[38;5;241m>\u001b[39m \u001b[38;5;28mint\u001b[39m:\n\u001b[0;32m----> 4\u001b[0m     \u001b[38;5;28;01mreturn\u001b[39;00m \u001b[43ma\u001b[49m\u001b[43m \u001b[49m\u001b[38;5;241;43m+\u001b[39;49m\u001b[43m \u001b[49m\u001b[43mb\u001b[49m\n",
      "\u001b[0;31mTypeError\u001b[0m: unsupported operand type(s) for +: 'int' and 'str'"
     ]
    }
   ],
   "source": [
    "add(10, \"a\")"
   ]
  },
  {
   "cell_type": "code",
   "execution_count": 62,
   "id": "3ccf68a5",
   "metadata": {},
   "outputs": [
    {
     "ename": "TypeError",
     "evalue": "unsupported operand type(s) for +: 'int' and 'str'",
     "output_type": "error",
     "traceback": [
      "\u001b[0;31m---------------------------------------------------------------------------\u001b[0m",
      "\u001b[0;31mTypeError\u001b[0m                                 Traceback (most recent call last)",
      "Input \u001b[0;32mIn [62]\u001b[0m, in \u001b[0;36m<cell line: 4>\u001b[0;34m()\u001b[0m\n\u001b[1;32m      1\u001b[0m \u001b[38;5;28;01mdef\u001b[39;00m \u001b[38;5;21madd2\u001b[39m(a, b):\n\u001b[1;32m      2\u001b[0m     a \u001b[38;5;241m+\u001b[39m b\n\u001b[0;32m----> 4\u001b[0m \u001b[43madd2\u001b[49m\u001b[43m(\u001b[49m\u001b[38;5;241;43m10\u001b[39;49m\u001b[43m,\u001b[49m\u001b[43m \u001b[49m\u001b[38;5;124;43m\"\u001b[39;49m\u001b[38;5;124;43ma\u001b[39;49m\u001b[38;5;124;43m\"\u001b[39;49m\u001b[43m)\u001b[49m\n",
      "Input \u001b[0;32mIn [62]\u001b[0m, in \u001b[0;36madd2\u001b[0;34m(a, b)\u001b[0m\n\u001b[1;32m      1\u001b[0m \u001b[38;5;28;01mdef\u001b[39;00m \u001b[38;5;21madd2\u001b[39m(a, b):\n\u001b[0;32m----> 2\u001b[0m     \u001b[43ma\u001b[49m\u001b[43m \u001b[49m\u001b[38;5;241;43m+\u001b[39;49m\u001b[43m \u001b[49m\u001b[43mb\u001b[49m\n",
      "\u001b[0;31mTypeError\u001b[0m: unsupported operand type(s) for +: 'int' and 'str'"
     ]
    }
   ],
   "source": [
    "def add2(a, b):\n",
    "    a + b\n",
    "    \n",
    "add2(10, \"a\")"
   ]
  },
  {
   "cell_type": "code",
   "execution_count": 66,
   "id": "014a3be5",
   "metadata": {},
   "outputs": [],
   "source": [
    "def add3(a: int, b: str):\n",
    "    a + b\n",
    "add3(3, 10)"
   ]
  },
  {
   "cell_type": "code",
   "execution_count": 68,
   "id": "9293df0a",
   "metadata": {},
   "outputs": [
    {
     "data": {
      "text/plain": [
       "[('a', 1), ('b', 2), ('c', 3)]"
      ]
     },
     "execution_count": 68,
     "metadata": {},
     "output_type": "execute_result"
    }
   ],
   "source": [
    "### Argument unpacking\n",
    "\n",
    "\n",
    "list(zip(['a','b','c'], [1,2,3]))"
   ]
  },
  {
   "cell_type": "code",
   "execution_count": 70,
   "id": "14124ea2",
   "metadata": {},
   "outputs": [
    {
     "name": "stdout",
     "output_type": "stream",
     "text": [
      "('a', 'b', 'c')\n",
      "(1, 2, 3)\n"
     ]
    }
   ],
   "source": [
    "pairs = [('a', 1), ('b',2), ('c',3)]\n",
    "letters, numbers = zip(*pairs)\n",
    "print(letters)\n",
    "print(numbers)"
   ]
  },
  {
   "cell_type": "code",
   "execution_count": 77,
   "id": "04051ff6",
   "metadata": {},
   "outputs": [
    {
     "name": "stdout",
     "output_type": "stream",
     "text": [
      "1\n",
      "2\n",
      "3\n"
     ]
    }
   ],
   "source": [
    "### Comprehension is a generator?\n",
    "\n",
    "# this is eager\n",
    "y = [print(x) for x in [1,2,3]]\n",
    "\n",
    "# this should be lazy\n",
    "y = (print(x) for x in [1,2,3])"
   ]
  },
  {
   "cell_type": "code",
   "execution_count": 78,
   "id": "805dc377",
   "metadata": {},
   "outputs": [
    {
     "name": "stdout",
     "output_type": "stream",
     "text": [
      "1\n"
     ]
    }
   ],
   "source": [
    "next(y)"
   ]
  },
  {
   "cell_type": "code",
   "execution_count": 79,
   "id": "455603af",
   "metadata": {},
   "outputs": [
    {
     "name": "stdout",
     "output_type": "stream",
     "text": [
      "2\n"
     ]
    }
   ],
   "source": [
    "next(y)\n"
   ]
  },
  {
   "cell_type": "code",
   "execution_count": 81,
   "id": "563d3feb",
   "metadata": {},
   "outputs": [
    {
     "name": "stdout",
     "output_type": "stream",
     "text": [
      "('a', 1) ('b', 2) ('c', 3)\n"
     ]
    }
   ],
   "source": [
    "print(*pairs)"
   ]
  },
  {
   "cell_type": "code",
   "execution_count": 82,
   "id": "ff9f85f4",
   "metadata": {},
   "outputs": [
    {
     "name": "stdout",
     "output_type": "stream",
     "text": [
      "unnamed args: (1, 2)\n",
      "named args: {'key': 'word', 'key2': 'word2'}\n"
     ]
    }
   ],
   "source": [
    "def magic(*args, **kwargs):\n",
    "    print(\"unnamed args:\", args)\n",
    "    print(\"named args:\", kwargs)\n",
    "magic(1,2, key='word', key2='word2')"
   ]
  },
  {
   "cell_type": "code",
   "execution_count": null,
   "id": "497a9d79",
   "metadata": {},
   "outputs": [],
   "source": [
    "(def http-get [url options])"
   ]
  }
 ],
 "metadata": {
  "kernelspec": {
   "display_name": "Python 3 (ipykernel)",
   "language": "python",
   "name": "python3"
  },
  "language_info": {
   "codemirror_mode": {
    "name": "ipython",
    "version": 3
   },
   "file_extension": ".py",
   "mimetype": "text/x-python",
   "name": "python",
   "nbconvert_exporter": "python",
   "pygments_lexer": "ipython3",
   "version": "3.9.10"
  }
 },
 "nbformat": 4,
 "nbformat_minor": 5
}
