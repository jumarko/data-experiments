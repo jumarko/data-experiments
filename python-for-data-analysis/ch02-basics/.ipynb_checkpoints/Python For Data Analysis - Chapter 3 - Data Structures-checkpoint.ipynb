{
 "cells": [
  {
   "cell_type": "code",
   "execution_count": 84,
   "metadata": {},
   "outputs": [
    {
     "data": {
      "text/plain": [
       "1"
      ]
     },
     "execution_count": 84,
     "metadata": {},
     "output_type": "execute_result"
    }
   ],
   "source": [
    "# tuples\n",
    "\n",
    "my_tuple = (4, (4,5,6), (4,8))\n",
    "my_tuple.count(4)"
   ]
  },
  {
   "cell_type": "code",
   "execution_count": 85,
   "metadata": {},
   "outputs": [
    {
     "name": "stdout",
     "output_type": "stream",
     "text": [
      "20 10\n"
     ]
    }
   ],
   "source": [
    "# you can swap variables this way!\n",
    "a = 10\n",
    "b = 20\n",
    "b, a = a, b\n",
    "print(a, b)"
   ]
  },
  {
   "cell_type": "code",
   "execution_count": 86,
   "metadata": {},
   "outputs": [
    {
     "name": "stdout",
     "output_type": "stream",
     "text": [
      "a=1, b=2, c=3\n",
      "a=4, b=5, c=6\n",
      "a=7, b=8, c=9\n"
     ]
    }
   ],
   "source": [
    "# common idiom to iterate sequences\n",
    "seq = [(1, 2, 3), (4, 5, 6), (7, 8, 9)]\n",
    "for a, b, c in seq:\n",
    "    print('a={0}, b={1}, c={2}'.format(a, b, c))"
   ]
  },
  {
   "cell_type": "code",
   "execution_count": 92,
   "metadata": {},
   "outputs": [
    {
     "name": "stdout",
     "output_type": "stream",
     "text": [
      "[2, 3, 7, None]\n",
      "[2, 3, 7, 10]\n"
     ]
    }
   ],
   "source": [
    "# Lists are variable length and mutable\n",
    "a_list = [2, 3, 7, None]\n",
    "print(a_list)\n",
    "\n",
    "a_list[3]=10\n",
    "print(a_list)"
   ]
  },
  {
   "cell_type": "code",
   "execution_count": 95,
   "metadata": {},
   "outputs": [
    {
     "name": "stdout",
     "output_type": "stream",
     "text": [
      "range(0, 10)\n",
      "[0, 1, 2, 3, 4, 5, 6, 7, 8, 9]\n"
     ]
    }
   ],
   "source": [
    "# LIsts are often used to \"materialize\" generator or iterator expression\n",
    "g = range(10)\n",
    "print(g)\n",
    "print(list(g))"
   ]
  },
  {
   "cell_type": "code",
   "execution_count": 97,
   "metadata": {},
   "outputs": [
    {
     "name": "stdout",
     "output_type": "stream",
     "text": [
      "[100000, 2, 3, 7, 10, 100, 100]\n",
      "[100000, 100000, 2, 3, 7, 10, 100, 100]\n"
     ]
    }
   ],
   "source": [
    "# append & insert\n",
    "a_list.append(100)\n",
    "print(a_list)\n",
    "\n",
    "a_list.insert(0, 100000)\n",
    "print(a_list)"
   ]
  },
  {
   "cell_type": "code",
   "execution_count": 105,
   "metadata": {},
   "outputs": [
    {
     "name": "stdout",
     "output_type": "stream",
     "text": [
      "[1, 2, 3, 10, 20, 30]\n",
      "None\n"
     ]
    }
   ],
   "source": [
    "# concatenate and combine lists\n",
    "print([1, 2, 3] + [10, 20, 30])\n",
    "# note that extend returns void!\n",
    "print([1,2,3].extend([10,20]))\n"
   ]
  },
  {
   "cell_type": "code",
   "execution_count": 116,
   "metadata": {},
   "outputs": [
    {
     "name": "stdout",
     "output_type": "stream",
     "text": [
      "None\n",
      "6\n",
      "[1, 2, 2, 2, 3, 4, 5, 7]\n"
     ]
    }
   ],
   "source": [
    "# sorted lists\n",
    "print([7, 2, 5, 1].sort())\n",
    "\n",
    "# bisect module can be used to binary search and insert into a sorted list\n",
    "import bisect\n",
    "c = [1,2,2,2,3,4,7]\n",
    "print(bisect.bisect(c, 5))\n",
    "bisect.insort(c,5)\n",
    "print(c)"
   ]
  },
  {
   "cell_type": "code",
   "execution_count": 126,
   "metadata": {},
   "outputs": [
    {
     "name": "stdout",
     "output_type": "stream",
     "text": [
      "Hello\n",
      "World\n",
      "Wor\n"
     ]
    }
   ],
   "source": [
    "# slicing\n",
    "w = \"Hello, World\"\n",
    "print(w[0:5])\n",
    "print(w[7:])\n",
    "print(w[-5:-2])"
   ]
  },
  {
   "cell_type": "code",
   "execution_count": 130,
   "metadata": {},
   "outputs": [
    {
     "name": "stdout",
     "output_type": "stream",
     "text": [
      "[('foo', 'one'), ('bar', 'two'), ('baz', 'three')]\n",
      "0: foo, one\n",
      "1: bar, two\n",
      "2: baz, three\n"
     ]
    }
   ],
   "source": [
    "# zip \"pairs up\"\n",
    "a = ['foo', 'bar', 'baz']\n",
    "b = ['one', 'two', 'three']\n",
    "print(list(zip(a, b)))\n",
    "\n",
    "# very common idiom to iterate over multiple sequences at once\n",
    "for i, (a, b) in enumerate(zip(a,b)):\n",
    "    print('{0}: {1}, {2}'.format(i, a, b))"
   ]
  },
  {
   "cell_type": "code",
   "execution_count": 147,
   "metadata": {},
   "outputs": [
    {
     "name": "stdout",
     "output_type": "stream",
     "text": [
      "{'a': 'some value', 'b': [1, 2, 3, 4]}\n",
      "some value\n",
      "\n",
      "Inserting...\n",
      "False\n",
      "True\n",
      "{'a': 'some value', 'b': [1, 2, 3, 4], 'c': 10}\n",
      "{'a': 'some value', 'b': [1, 2, 3, 4], 'c': 1000}\n",
      "\n",
      "Deleting...\n",
      "{'a': 'some value', 'b': [1, 2, 3, 4]}\n",
      "some value\n",
      "{'b': [1, 2, 3, 4]}\n",
      "dict_keys(['a', 'b'])\n",
      "dict_values(['some value', [1, 2, 3, 4]])\n",
      "{'a': 'NEW VALUE', 'b': [1, 2, 3, 4]}\n"
     ]
    }
   ],
   "source": [
    "# dictionary (hash map) is likely the most important Python data structure\n",
    "d1 = {'a' : 'some value', 'b' : [1,2,3,4]}\n",
    "print(d1)\n",
    "\n",
    "# access, insert, or set elements\n",
    "print(d1['a']) # returns KeyError if not found\n",
    "\n",
    "print(\"\\nInserting...\")\n",
    "print('c' in d1)\n",
    "d1['c'] = 10\n",
    "print('c' in d1)\n",
    "print(d1)\n",
    "\n",
    "d1['c'] = 1000\n",
    "print(d1)\n",
    "\n",
    "# delete via 'del' or 'pop' (returns the value)\n",
    "print(\"\\nDeleting...\")\n",
    "del d1['c']\n",
    "print(d1)\n",
    "print(d1.pop('a'))\n",
    "print(d1)\n",
    "\n",
    "# keys(), values() -> return iterators\n",
    "d1 = {'a' : 'some value', 'b' : [1,2,3,4]}\n",
    "print(d1.keys())\n",
    "print(d1.values())\n",
    "\n",
    "# merge via 'update'\n",
    "d1.update({'a' : 'NEW VALUE'})\n",
    "print(d1)"
   ]
  },
  {
   "cell_type": "code",
   "execution_count": 153,
   "metadata": {},
   "outputs": [
    {
     "name": "stdout",
     "output_type": "stream",
     "text": [
      "{'a': 10, 'b': 20, 'c': 30}\n",
      "{'a': 10, 'b': 20, 'c': 30}\n"
     ]
    }
   ],
   "source": [
    "# create dicts from sequences\n",
    "\n",
    "# you might want to write it like this:\n",
    "mapping = {}\n",
    "key_list = ['a','b','c']\n",
    "value_list = [10,20,30]\n",
    "for key, value in zip(key_list, value_list):\n",
    "    mapping[key] = value\n",
    "print(mapping)\n",
    "\n",
    "# but there's a better option!\n",
    "print(dict(zip(key_list, value_list)))\n"
   ]
  },
  {
   "cell_type": "code",
   "execution_count": 161,
   "metadata": {},
   "outputs": [
    {
     "name": "stdout",
     "output_type": "stream",
     "text": [
      "10\n",
      "10\n",
      "defaultdict(<class 'list'>, {'a': ['apple', 'atom'], 'b': ['bat', 'bar', 'book']})\n"
     ]
    }
   ],
   "source": [
    "# default values for dicts\n",
    "\n",
    "d = {'a':1, 'b':2}\n",
    "#instead of having to write this\n",
    "value = None\n",
    "if 'c' in d:\n",
    "    value = d['c']\n",
    "else:\n",
    "    value = 10\n",
    "print(value)\n",
    "\n",
    "# you can use optional arguments for 'get' and 'pop' methods\n",
    "print(d.get('c', 10))\n",
    "\n",
    "# you can use `setdefault` or `defaultdict` to supply default values easily\n",
    "words = ['apple', 'bat', 'bar', 'atom', 'book']\n",
    "from collections import defaultdict\n",
    "by_letter = defaultdict(list)\n",
    "for word in words:\n",
    "    by_letter[word[0]].append(word)\n",
    "print(by_letter)"
   ]
  },
  {
   "cell_type": "code",
   "execution_count": 166,
   "metadata": {},
   "outputs": [
    {
     "name": "stdout",
     "output_type": "stream",
     "text": [
      "-4725789636023026514\n",
      "{(1, 2, 3): 5}\n"
     ]
    },
    {
     "ename": "TypeError",
     "evalue": "unhashable type: 'list'",
     "output_type": "error",
     "traceback": [
      "\u001b[0;31m---------------------------------------------------------------------------\u001b[0m",
      "\u001b[0;31mTypeError\u001b[0m                                 Traceback (most recent call last)",
      "\u001b[0;32m<ipython-input-166-7e0683b64314>\u001b[0m in \u001b[0;36m<module>\u001b[0;34m\u001b[0m\n\u001b[1;32m      9\u001b[0m \u001b[0mprint\u001b[0m\u001b[0;34m(\u001b[0m\u001b[0md\u001b[0m\u001b[0;34m)\u001b[0m\u001b[0;34m\u001b[0m\u001b[0;34m\u001b[0m\u001b[0m\n\u001b[1;32m     10\u001b[0m \u001b[0;34m\u001b[0m\u001b[0m\n\u001b[0;32m---> 11\u001b[0;31m \u001b[0md\u001b[0m \u001b[0;34m=\u001b[0m \u001b[0;34m{\u001b[0m\u001b[0;34m[\u001b[0m\u001b[0;36m1\u001b[0m\u001b[0;34m,\u001b[0m\u001b[0;36m2\u001b[0m\u001b[0;34m,\u001b[0m\u001b[0;36m3\u001b[0m\u001b[0;34m]\u001b[0m \u001b[0;34m:\u001b[0m \u001b[0;36m5\u001b[0m\u001b[0;34m}\u001b[0m\u001b[0;34m\u001b[0m\u001b[0;34m\u001b[0m\u001b[0m\n\u001b[0m",
      "\u001b[0;31mTypeError\u001b[0m: unhashable type: 'list'"
     ]
    }
   ],
   "source": [
    "# valid dict key types => scalar types (\"hashable\")\n",
    "print(hash('string'))\n",
    "\n",
    "# list doesn't work => it's mutable!\n",
    "# print(hash([1, 2,3 ]))\n",
    "# => convert to tuple\n",
    "d = {}\n",
    "d[tuple([1,2,3])] = 5\n",
    "print(d)\n",
    "\n",
    "# try directly using list => TypeError\n",
    "d = {[1,2,3] : 5}"
   ]
  },
  {
   "cell_type": "code",
   "execution_count": 179,
   "metadata": {},
   "outputs": [
    {
     "name": "stdout",
     "output_type": "stream",
     "text": [
      "['BAT', 'CAR', 'PYTHON']\n",
      "{1, 2, 3, 6}\n",
      "{'a': 0, 'as': 1, 'bat': 2, 'car': 3, 'python': 4}\n",
      "{'a': 1, 'as': 2, 'bat': 3, 'car': 3, 'python': 6}\n"
     ]
    }
   ],
   "source": [
    "# List, Set, Dict comprehensions\n",
    "\n",
    "# list comprehension\n",
    "strings = ['a', 'as', 'bat', 'car', 'python']\n",
    "print([x.upper() for x in strings if len(x) > 2])\n",
    "\n",
    "# set comprehension\n",
    "print({len(x) for x in strings})\n",
    "\n",
    "# dict comprehension\n",
    "print({val : idx for idx, val in enumerate(strings)})\n",
    "print({x : len(x) for x in strings})\n"
   ]
  },
  {
   "cell_type": "code",
   "execution_count": 170,
   "metadata": {},
   "outputs": [
    {
     "name": "stdout",
     "output_type": "stream",
     "text": [
      "{1, 2, 3}\n",
      "{1, 2, 3, 4, 5, 6}\n",
      "{1, 2, 3, 4, 5, 6}\n",
      "{3}\n",
      "{3}\n"
     ]
    }
   ],
   "source": [
    "# sets\n",
    "a = set([2,2,2,1,3,3])\n",
    "print(a)\n",
    "\n",
    "# union\n",
    "b = {3, 4, 5, 6}\n",
    "print(a.union(b))\n",
    "print(a | b)\n",
    "\n",
    "# intersection\n",
    "print(a.intersection(b))\n",
    "print(a & b)\n",
    "\n"
   ]
  },
  {
   "cell_type": "code",
   "execution_count": 89,
   "metadata": {},
   "outputs": [
    {
     "name": "stdout",
     "output_type": "stream",
     "text": [
      "[2, 4, 6]\n"
     ]
    },
    {
     "data": {
      "text/plain": [
       "{1: 10, 2: 20, 3: 30}"
      ]
     },
     "execution_count": 89,
     "metadata": {},
     "output_type": "execute_result"
    }
   ],
   "source": [
    "\n",
    "\n",
    "mm = map(lambda x: x*2, [1, 2, 3])\n",
    "print(list(mm))\n",
    "\n",
    "dict(zip([1,2,3], [10,20,30]))\n",
    "\n"
   ]
  },
  {
   "cell_type": "code",
   "execution_count": 90,
   "metadata": {},
   "outputs": [
    {
     "name": "stdout",
     "output_type": "stream",
     "text": [
      "Generating squares from 1 to 100\n",
      "1\n",
      "Generating squares from 1 to 100\n",
      "1\n",
      "4\n",
      "9\n",
      "16\n",
      "25\n",
      "36\n",
      "49\n",
      "64\n",
      "81\n",
      "100\n"
     ]
    }
   ],
   "source": [
    "# generator\n",
    "def squares(n=10):\n",
    "    print('Generating squares from 1 to {0}'.format(n ** 2))\n",
    "    for i in range(1, n + 1):\n",
    "        yield i**2\n",
    "# https://stackoverflow.com/questions/4741243/how-to-pick-just-one-item-from-a-generator-in-python\n",
    "print(next(squares()))     \n",
    "for i in (squares()):\n",
    "    print(i)"
   ]
  },
  {
   "cell_type": "code",
   "execution_count": 91,
   "metadata": {},
   "outputs": [
    {
     "name": "stdout",
     "output_type": "stream",
     "text": [
      "also succeeded\n",
      "succeeded\n"
     ]
    }
   ],
   "source": [
    "# exceptions\n",
    "try:\n",
    "    1/1\n",
    "    print(\"also succeeded\")\n",
    "except Exception as e:\n",
    "    print(\"error\", e)\n",
    "else: \n",
    "    print(\"succeeded\")"
   ]
  },
  {
   "cell_type": "code",
   "execution_count": null,
   "metadata": {},
   "outputs": [],
   "source": []
  }
 ],
 "metadata": {
  "kernelspec": {
   "display_name": "Python 3",
   "language": "python",
   "name": "python3"
  },
  "language_info": {
   "codemirror_mode": {
    "name": "ipython",
    "version": 3
   },
   "file_extension": ".py",
   "mimetype": "text/x-python",
   "name": "python",
   "nbconvert_exporter": "python",
   "pygments_lexer": "ipython3",
   "version": "3.7.6"
  }
 },
 "nbformat": 4,
 "nbformat_minor": 4
}
