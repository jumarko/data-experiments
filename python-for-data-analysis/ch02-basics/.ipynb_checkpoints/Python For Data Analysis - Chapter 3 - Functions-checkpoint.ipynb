{
 "cells": [
  {
   "cell_type": "markdown",
   "metadata": {},
   "source": [
    "## Functions intro"
   ]
  },
  {
   "cell_type": "code",
   "execution_count": 1,
   "metadata": {},
   "outputs": [
    {
     "data": {
      "text/plain": [
       "0.45454545454545453"
      ]
     },
     "execution_count": 1,
     "metadata": {},
     "output_type": "execute_result"
    }
   ],
   "source": [
    "# functions are declared with `def`\n",
    "\n",
    "def add_and_multiply_or_divide (x,y,z=1.5):\n",
    "    if z > 1:\n",
    "        return z * (x + y)\n",
    "    else:\n",
    "        return x / (x + y)\n",
    "\n",
    "# note how \"keyword\" (optional) arguments \n",
    "# have to be specified after any \"positional\" arguments\n",
    "add_and_multiply_or_divide(5,6,z=0.7)"
   ]
  },
  {
   "cell_type": "markdown",
   "metadata": {},
   "source": [
    "### Assigning global variables inside a function"
   ]
  },
  {
   "cell_type": "code",
   "execution_count": 4,
   "metadata": {},
   "outputs": [
    {
     "name": "stdout",
     "output_type": "stream",
     "text": [
      "10\n",
      "11\n"
     ]
    }
   ],
   "source": [
    "a = 10\n",
    "def my_f():\n",
    "    a = 11\n",
    "my_f()\n",
    "# This doesn't change!\n",
    "print(a)\n",
    "\n",
    "# you have to declare it with 'global'\n",
    "def my_f():\n",
    "    global a\n",
    "    a = 11\n",
    "my_f()\n",
    "# now it prints 11!\n",
    "print(a)"
   ]
  },
  {
   "cell_type": "markdown",
   "metadata": {},
   "source": [
    "### Returning multiple values"
   ]
  },
  {
   "cell_type": "code",
   "execution_count": 5,
   "metadata": {},
   "outputs": [
    {
     "name": "stdout",
     "output_type": "stream",
     "text": [
      "5 6 7\n"
     ]
    }
   ],
   "source": [
    "def f():\n",
    "    a = 5; b = 6; c = 7;\n",
    "    return a, b, c\n",
    "x, y, z = f()\n",
    "print(x, y, z)"
   ]
  },
  {
   "cell_type": "markdown",
   "metadata": {},
   "source": [
    "### Functions are objects"
   ]
  },
  {
   "cell_type": "code",
   "execution_count": 7,
   "metadata": {},
   "outputs": [
    {
     "data": {
      "text/plain": [
       "['Alabama',\n",
       " 'Georgia',\n",
       " 'Georgia',\n",
       " 'Georgia',\n",
       " 'Florida',\n",
       " 'South Carolina',\n",
       " 'West Virginia']"
      ]
     },
     "execution_count": 7,
     "metadata": {},
     "output_type": "execute_result"
    }
   ],
   "source": [
    "# example of cleaning data by applying defined set of cleaning operations\n",
    "import re\n",
    "\n",
    "states = [' Alabama ', 'Georgia!', 'Georgia', 'georgia', 'FlOrIda', 'south carolina##', 'West virginia?']\n",
    "\n",
    "def remove_punctuation(value):\n",
    "    return re.sub('[!#?]', '', value)\n",
    "\n",
    "clean_ops = [str.strip, remove_punctuation, str.title]\n",
    "\n",
    "def clean_strings(strings, ops):\n",
    "    result = []\n",
    "    for s in strings:\n",
    "        for f in ops:\n",
    "            s = f(s)\n",
    "        result.append(s)\n",
    "        \n",
    "    return result\n",
    "\n",
    "clean_strings(states, clean_ops)"
   ]
  },
  {
   "cell_type": "markdown",
   "metadata": {},
   "source": [
    "### Lambda functions"
   ]
  },
  {
   "cell_type": "code",
   "execution_count": 19,
   "metadata": {},
   "outputs": [
    {
     "name": "stdout",
     "output_type": "stream",
     "text": [
      "[8, 0, 2, 10, 12]\n",
      "[16, 0, 1, 25, 36]\n",
      "[8, 0, 2, 10, 12]\n",
      "['foo', 'card', 'bar', 'aaaa', 'abab']\n",
      "['aaaa', 'foo', 'abab', 'bar', 'card']\n",
      "['aaaa', 'foo', 'abab', 'bar', 'card']\n"
     ]
    }
   ],
   "source": [
    "ints = [4,0,1,5,6]\n",
    "\n",
    "# apply lambda directly\n",
    "print([(lambda x: x*2)(n) for n in ints])\n",
    "\n",
    "# BUT THIS IS EVEN BETTER\n",
    "print([x*x for x in ints])\n",
    "\n",
    "# or you need special method\n",
    "def apply_to_list(l, f):\n",
    "    return [f(x) for x in l]\n",
    "print(apply_to_list(ints, lambda x: x*2))\n",
    "\n",
    "# sort list by the number of distinct letters\n",
    "strings = ['foo', 'card', 'bar', 'aaaa', 'abab']\n",
    "print(strings)\n",
    "# it works even without `list`?\n",
    "strings.sort(key=lambda x: len(set(x)))\n",
    "print(strings)\n",
    "# from the book - using `list`\n",
    "strings.sort(key=lambda x: len(set(list(x))))\n",
    "print(strings)\n"
   ]
  },
  {
   "cell_type": "markdown",
   "metadata": {},
   "source": [
    "### Currying\n",
    "\"Currying\" is creating new functions by partial argument application"
   ]
  },
  {
   "cell_type": "code",
   "execution_count": 29,
   "metadata": {},
   "outputs": [
    {
     "name": "stdout",
     "output_type": "stream",
     "text": [
      "16\n",
      "16\n"
     ]
    }
   ],
   "source": [
    "def add_numbers(x, y):\n",
    "    return x + y\n",
    "\n",
    "# currying by using lambda\n",
    "add_five = lambda y: add_numbers(5, y)\n",
    "print(add_five(11))\n",
    "\n",
    "# currying via built-in 'functools' module => 'partial'\n",
    "from functools import partial\n",
    "\n",
    "add_five = partial(add_numbers, 5)\n",
    "print(add_five(11))\n"
   ]
  },
  {
   "cell_type": "code",
   "execution_count": 31,
   "metadata": {},
   "outputs": [],
   "source": [
    "# check functools module\n",
    "import functools\n",
    "?? functools\n"
   ]
  },
  {
   "cell_type": "markdown",
   "metadata": {},
   "source": [
    "## Iterators & Generators"
   ]
  },
  {
   "cell_type": "markdown",
   "metadata": {},
   "source": [
    "### Iterators\n",
    "Iterators are used automatically by Python interpreter when you use `for key in some_dict` et al."
   ]
  },
  {
   "cell_type": "code",
   "execution_count": 37,
   "metadata": {},
   "outputs": [
    {
     "name": "stdout",
     "output_type": "stream",
     "text": [
      "a\n",
      "b\n",
      "c\n",
      "<dict_keyiterator object at 0x7fd399447230>\n",
      "['a', 'b', 'c']\n"
     ]
    }
   ],
   "source": [
    "some_dict = {'a' : 1, 'b': 2, 'c': 3}\n",
    "# here the interpreter is using iterator under the hood\n",
    "for key in some_dict:\n",
    "    print(key)\n",
    "\n",
    "# you could create an iterator explicitly\n",
    "dict_iterator = iter(some_dict)\n",
    "print(dict_iterator)\n",
    "# most method accepting list-like objects will also accept iterators\n",
    "print(list(dict_iterator))"
   ]
  },
  {
   "cell_type": "markdown",
   "metadata": {},
   "source": [
    "### Generators\n",
    "Generator is \"a consice way to construct a new iterable object\".\n",
    "Compared to a simple function, which returns a single result at a time,\n",
    "generator **returns a sequence of multiple results lazily**, pausing after each one until the next one is requeste.\n"
   ]
  },
  {
   "cell_type": "code",
   "execution_count": 41,
   "metadata": {},
   "outputs": [
    {
     "name": "stdout",
     "output_type": "stream",
     "text": [
      "nothing realized yet...\n",
      "Generating squares from 1 to 100\n",
      "1 4 9 16 25 36 49 64 81 100 "
     ]
    }
   ],
   "source": [
    "# use `yield` instead of `return`\n",
    "def squares(n=10):\n",
    "    print('Generating squares from 1 to {0}'.format(n ** 2))\n",
    "    for i in range(1, n + 1):\n",
    "        yield i ** 2\n",
    "        \n",
    "# no code is executed immediatelly\n",
    "gen = squares()\n",
    "print('nothing realized yet...')\n",
    "# ... until you request elements from the generator\n",
    "for x in gen:\n",
    "    print(x, end=' ')"
   ]
  },
  {
   "cell_type": "markdown",
   "metadata": {},
   "source": [
    "#### Generator expressions\n",
    "This is an even more concise way to create a generator.\n",
    "**It's a generator analogue to list/dict/set comprehension**."
   ]
  },
  {
   "cell_type": "code",
   "execution_count": 53,
   "metadata": {},
   "outputs": [
    {
     "name": "stdout",
     "output_type": "stream",
     "text": [
      "328350\n"
     ]
    },
    {
     "data": {
      "text/plain": [
       "{0: 0, 1: 1, 2: 4, 3: 9, 4: 16}"
      ]
     },
     "execution_count": 53,
     "metadata": {},
     "output_type": "execute_result"
    }
   ],
   "source": [
    "gen = (x ** 2 for x in range(100))\n",
    "print(sum(gen))\n",
    "\n",
    "dict((i, i ** 2) for i in range(5))"
   ]
  },
  {
   "cell_type": "markdown",
   "metadata": {},
   "source": [
    "#### itertools module\n",
    "itertools contains generators for common data algorithms;\n",
    "    e.g. `group-by`"
   ]
  },
  {
   "cell_type": "code",
   "execution_count": 64,
   "metadata": {},
   "outputs": [
    {
     "name": "stdout",
     "output_type": "stream",
     "text": [
      "<itertools.groupby object at 0x7fd390b6b770>\n",
      "A ['Alan', 'Adam']\n",
      "W ['Wes', 'Will']\n",
      "A ['Albert']\n",
      "S ['Steven']\n"
     ]
    }
   ],
   "source": [
    "import itertools\n",
    "\n",
    "first_letter = lambda x: x[0]\n",
    "names = ['Alan', 'Adam', 'Wes', 'Will', 'Albert', 'Steven']\n",
    "\n",
    "print(itertools.groupby(names, first_letter))\n",
    "\n",
    "for letter, names in itertools.groupby(names, first_letter):\n",
    "    print(letter, list(names)) # `names` is a generator\n",
    "    "
   ]
  },
  {
   "cell_type": "code",
   "execution_count": 65,
   "metadata": {},
   "outputs": [
    {
     "name": "stdout",
     "output_type": "stream",
     "text": [
      "Permutations: [(1, 2), (1, 3), (2, 1), (2, 3), (3, 1), (3, 2)]\n",
      "[]\n"
     ]
    }
   ],
   "source": [
    "# try also permutations from the itertools module\n",
    "print('Permutations: {0}'.format(list(itertools.permutations([1,2,3], 2))))\n",
    "\n",
    "# notice you cannot use 'names' as an permutations arg because names is a list of lists(=strings)\n",
    "# - it would simply return an empty result because it cannot deal with nested sequences\n",
    "print(list(itertools.permutations(names, 2)))"
   ]
  },
  {
   "cell_type": "markdown",
   "metadata": {},
   "source": [
    "## Errors and Exception Handling\n",
    "\n",
    "Exceptions are important part of python programs.\n",
    "**Using exceptions for control flow is normal** in python - even core developers often do this.\n"
   ]
  },
  {
   "cell_type": "code",
   "execution_count": 73,
   "metadata": {},
   "outputs": [
    {
     "name": "stdout",
     "output_type": "stream",
     "text": [
      "1.2345\n",
      "1.2345\n",
      "something\n",
      "something\n"
     ]
    },
    {
     "ename": "TypeError",
     "evalue": "float() argument must be a string or a number, not 'tuple'",
     "output_type": "error",
     "traceback": [
      "\u001b[0;31m---------------------------------------------------------------------------\u001b[0m",
      "\u001b[0;31mTypeError\u001b[0m                                 Traceback (most recent call last)",
      "\u001b[0;32m<ipython-input-73-4368711a79d6>\u001b[0m in \u001b[0;36m<module>\u001b[0;34m\u001b[0m\n\u001b[1;32m     25\u001b[0m         \u001b[0;32mreturn\u001b[0m \u001b[0mx\u001b[0m\u001b[0;34m\u001b[0m\u001b[0;34m\u001b[0m\u001b[0m\n\u001b[1;32m     26\u001b[0m \u001b[0mprint\u001b[0m\u001b[0;34m(\u001b[0m\u001b[0mtry_float\u001b[0m\u001b[0;34m(\u001b[0m\u001b[0;34m'something'\u001b[0m\u001b[0;34m)\u001b[0m\u001b[0;34m)\u001b[0m\u001b[0;34m\u001b[0m\u001b[0;34m\u001b[0m\u001b[0m\n\u001b[0;32m---> 27\u001b[0;31m \u001b[0mprint\u001b[0m\u001b[0;34m(\u001b[0m\u001b[0mtry_float\u001b[0m\u001b[0;34m(\u001b[0m\u001b[0;34m(\u001b[0m\u001b[0;36m1\u001b[0m\u001b[0;34m,\u001b[0m\u001b[0;36m2\u001b[0m\u001b[0;34m)\u001b[0m\u001b[0;34m)\u001b[0m\u001b[0;34m)\u001b[0m\u001b[0;34m\u001b[0m\u001b[0;34m\u001b[0m\u001b[0m\n\u001b[0m",
      "\u001b[0;32m<ipython-input-73-4368711a79d6>\u001b[0m in \u001b[0;36mtry_float\u001b[0;34m(x)\u001b[0m\n\u001b[1;32m     21\u001b[0m \u001b[0;32mdef\u001b[0m \u001b[0mtry_float\u001b[0m\u001b[0;34m(\u001b[0m\u001b[0mx\u001b[0m\u001b[0;34m)\u001b[0m\u001b[0;34m:\u001b[0m\u001b[0;34m\u001b[0m\u001b[0;34m\u001b[0m\u001b[0m\n\u001b[1;32m     22\u001b[0m     \u001b[0;32mtry\u001b[0m\u001b[0;34m:\u001b[0m\u001b[0;34m\u001b[0m\u001b[0;34m\u001b[0m\u001b[0m\n\u001b[0;32m---> 23\u001b[0;31m         \u001b[0;32mreturn\u001b[0m \u001b[0mfloat\u001b[0m\u001b[0;34m(\u001b[0m\u001b[0mx\u001b[0m\u001b[0;34m)\u001b[0m\u001b[0;34m\u001b[0m\u001b[0;34m\u001b[0m\u001b[0m\n\u001b[0m\u001b[1;32m     24\u001b[0m     \u001b[0;32mexcept\u001b[0m \u001b[0mValueError\u001b[0m\u001b[0;34m:\u001b[0m\u001b[0;34m\u001b[0m\u001b[0;34m\u001b[0m\u001b[0m\n\u001b[1;32m     25\u001b[0m         \u001b[0;32mreturn\u001b[0m \u001b[0mx\u001b[0m\u001b[0;34m\u001b[0m\u001b[0;34m\u001b[0m\u001b[0m\n",
      "\u001b[0;31mTypeError\u001b[0m: float() argument must be a string or a number, not 'tuple'"
     ]
    }
   ],
   "source": [
    "print(float('1.2345'))\n",
    "\n",
    "# -> ValueError\n",
    "# float('something')\n",
    "\n",
    "def try_float(x):\n",
    "    try:\n",
    "        return float(x)\n",
    "    except:\n",
    "        return x\n",
    "    \n",
    "print(try_float('1.2345'))\n",
    "print(try_float('something'))\n",
    "\n",
    "# float can also raise TypeError\n",
    "# float((1,2))\n",
    "# => TypeError: float() argument must be a string or a number, not 'tuple'\n",
    "\n",
    "# since TypeError can be a real bug in your program\n",
    "# let's only supress ValueError\n",
    "def try_float(x):\n",
    "    try:\n",
    "        return float(x)\n",
    "    except ValueError:\n",
    "        return x\n",
    "print(try_float('something'))\n",
    "print(try_float((1,2)))"
   ]
  },
  {
   "cell_type": "code",
   "execution_count": null,
   "metadata": {},
   "outputs": [],
   "source": []
  }
 ],
 "metadata": {
  "kernelspec": {
   "display_name": "Python 3",
   "language": "python",
   "name": "python3"
  },
  "language_info": {
   "codemirror_mode": {
    "name": "ipython",
    "version": 3
   },
   "file_extension": ".py",
   "mimetype": "text/x-python",
   "name": "python",
   "nbconvert_exporter": "python",
   "pygments_lexer": "ipython3",
   "version": "3.7.6"
  }
 },
 "nbformat": 4,
 "nbformat_minor": 4
}
