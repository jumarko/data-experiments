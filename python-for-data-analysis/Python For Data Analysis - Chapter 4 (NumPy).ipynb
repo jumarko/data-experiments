{
 "cells": [
  {
   "cell_type": "markdown",
   "metadata": {},
   "source": [
    "## Why is NumPy fast?\n",
    "Because it uses contiguous arrays and algorithms written in C operating on those arrays without overhead\n"
   ]
  },
  {
   "cell_type": "code",
   "execution_count": 23,
   "metadata": {},
   "outputs": [
    {
     "name": "stdout",
     "output_type": "stream",
     "text": [
      "CPU times: user 14.5 ms, sys: 8.33 ms, total: 22.8 ms\n",
      "Wall time: 22.8 ms\n",
      "CPU times: user 570 ms, sys: 113 ms, total: 683 ms\n",
      "Wall time: 683 ms\n",
      "CPU times: user 128 ms, sys: 416 µs, total: 128 ms\n",
      "Wall time: 128 ms\n"
     ]
    }
   ],
   "source": [
    "# from Python for Data Analysis (book)\n",
    "import numpy as np\n",
    "\n",
    "my_arr = np.arange(1000000)\n",
    "my_list = list(range(1000000))\n",
    "\n",
    "%time for _ in range(10): my_arr2 = my_arr * 2\n",
    "    \n",
    "%time for _ in range(10): my_list2 = [x * 2 for x in my_list]\n",
    "\n",
    "# what if we try to do in-place mutation?\n",
    "%time for i in range(1000000): my_list[i] = my_list[i] * 2"
   ]
  },
  {
   "cell_type": "code",
   "execution_count": 33,
   "metadata": {},
   "outputs": [
    {
     "name": "stdout",
     "output_type": "stream",
     "text": [
      "CPU times: user 2.68 ms, sys: 501 ms, total: 504 ms\n",
      "Wall time: 505 ms\n",
      "CPU times: user 2.13 s, sys: 1.82 s, total: 3.96 s\n",
      "Wall time: 4.01 s\n"
     ]
    }
   ],
   "source": [
    "# try something really large\n",
    "import numpy as np\n",
    "\n",
    "# 1,000,000 elements\n",
    "my_arr = np.arange(1000000)\n",
    "%time  my_arr2 = my_arr * 2\n",
    "\n",
    "# 1000,000,000 elements\n",
    "my_arr = np.arange(1000000000)\n",
    "%time  my_arr2 = my_arr * 2"
   ]
  },
  {
   "cell_type": "code",
   "execution_count": 50,
   "metadata": {},
   "outputs": [
    {
     "name": "stdout",
     "output_type": "stream",
     "text": [
      "CPU times: user 15.3 ms, sys: 5.98 ms, total: 21.3 ms\n",
      "Wall time: 21.8 ms\n",
      "100200100\n"
     ]
    }
   ],
   "source": [
    "# Now try less trivial multiplication because *2 can be very well optimized\n",
    "my_arr = np.arange(1000000)\n",
    "\n",
    "%time for _ in range(10): my_arr2 = my_arr * my_arr\n",
    "print(my_arr2[10010])    \n",
    "#=> still very fast!"
   ]
  },
  {
   "cell_type": "code",
   "execution_count": null,
   "metadata": {},
   "outputs": [],
   "source": []
  },
  {
   "cell_type": "code",
   "execution_count": null,
   "metadata": {},
   "outputs": [],
   "source": []
  },
  {
   "cell_type": "markdown",
   "metadata": {},
   "source": [
    "## Creating arrays"
   ]
  },
  {
   "cell_type": "code",
   "execution_count": 12,
   "metadata": {},
   "outputs": [
    {
     "name": "stdout",
     "output_type": "stream",
     "text": [
      "[0 1 2 3 4]\n",
      "[0. 0. 0. 0. 0. 0. 0. 0. 0. 0.]\n",
      "[1. 1. 1. 1. 1. 1. 1. 1. 1. 1.]\n"
     ]
    }
   ],
   "source": [
    "# array accepts any sequential colleciton\n",
    "# from Python for Data Analysis (book)\n",
    "import numpy as np\n",
    "\n",
    "my_list = [0, 1, 2, 3, 4]\n",
    "my_arr = np.array(my_list)\n",
    "print(my_arr)\n",
    "\n",
    "# zeros, ones\n",
    "print(np.zeros(10))\n",
    "print(np.ones(10))"
   ]
  },
  {
   "cell_type": "code",
   "execution_count": 9,
   "metadata": {},
   "outputs": [
    {
     "name": "stdout",
     "output_type": "stream",
     "text": [
      "[[ 3.10503618e+231 -1.49457642e-154  1.48219694e-323]\n",
      " [ 0.00000000e+000  0.00000000e+000  4.17201348e-309]]\n"
     ]
    }
   ],
   "source": [
    "# empty\n",
    "# note: this will likely print garbage because values are not initialized\n",
    "# https://stackoverflow.com/questions/54725478/are-the-values-returned-by-numpy-empty-random-or-not\n",
    "print(np.empty((2, 3)))"
   ]
  },
  {
   "cell_type": "code",
   "execution_count": 13,
   "metadata": {},
   "outputs": [
    {
     "name": "stdout",
     "output_type": "stream",
     "text": [
      "[0 1 2 3 4]\n",
      "int64\n"
     ]
    }
   ],
   "source": [
    "# arrange is like range\n",
    "my_arr = np.arange(5)\n",
    "print(my_arr)\n",
    "\n"
   ]
  },
  {
   "cell_type": "markdown",
   "metadata": {},
   "source": [
    "## Array types"
   ]
  },
  {
   "cell_type": "code",
   "execution_count": 14,
   "metadata": {},
   "outputs": [
    {
     "name": "stdout",
     "output_type": "stream",
     "text": [
      "int64\n"
     ]
    }
   ],
   "source": [
    "# dtype\n",
    "print(my_arr.dtype)"
   ]
  },
  {
   "cell_type": "code",
   "execution_count": 21,
   "metadata": {},
   "outputs": [
    {
     "name": "stdout",
     "output_type": "stream",
     "text": [
      "<U4\n",
      "[ 1.25 -9.6  42.  ]\n"
     ]
    }
   ],
   "source": [
    "# convert strings to numbers\n",
    "numeric_strings = np.array(['1.25', '-9.6', '42'])\n",
    "print(numeric_strings.dtype)\n",
    "\n",
    "print(numeric_strings.astype(float))"
   ]
  },
  {
   "cell_type": "markdown",
   "metadata": {},
   "source": [
    "## Array operations"
   ]
  },
  {
   "cell_type": "code",
   "execution_count": 25,
   "metadata": {},
   "outputs": [
    {
     "name": "stdout",
     "output_type": "stream",
     "text": [
      "[[ 1  4  9]\n",
      " [16 25 36]]\n",
      "[[1.         0.5        0.33333333]\n",
      " [0.25       0.2        0.16666667]]\n"
     ]
    }
   ],
   "source": [
    "arr = np.array([[1, 2, 3], [4,5,6]])\n",
    "\n",
    "print(arr * arr)\n",
    "\n",
    "print(1 / arr)"
   ]
  },
  {
   "cell_type": "markdown",
   "metadata": {},
   "source": [
    "## Slices"
   ]
  },
  {
   "cell_type": "code",
   "execution_count": 27,
   "metadata": {},
   "outputs": [
    {
     "name": "stdout",
     "output_type": "stream",
     "text": [
      "[ 0  1  2  3  4 12 12 12  8  9]\n"
     ]
    }
   ],
   "source": [
    "arr = np.arange(10)\n",
    "\n",
    "arr[5:8] = 12\n",
    "# original array modified\n",
    "print(arr)"
   ]
  },
  {
   "cell_type": "code",
   "execution_count": 33,
   "metadata": {},
   "outputs": [
    {
     "name": "stdout",
     "output_type": "stream",
     "text": [
      "[[1 2 3]\n",
      " [4 5 6]\n",
      " [7 8 9]]\n",
      "[[1 2 3]\n",
      " [4 5 6]]\n",
      "[[2 3]\n",
      " [5 6]]\n",
      "[[1 2]\n",
      " [4 5]\n",
      " [7 8]]\n"
     ]
    }
   ],
   "source": [
    "# you can pass multiple slices\n",
    "arr2d = np.array([[1,2,3], [4,5,6], [7,8,9]])\n",
    "print(arr2d)\n",
    "\n",
    "# single slice\n",
    "print(arr2d[:2])\n",
    "\n",
    "# multiple slices\n",
    "print(arr2d[:2, 1:])\n",
    "\n",
    "# you can use ':' to mean \"all\"\n",
    "print(arr2d[:, :2])"
   ]
  },
  {
   "cell_type": "markdown",
   "metadata": {},
   "source": [
    "## Boolean Indexing"
   ]
  },
  {
   "cell_type": "code",
   "execution_count": 39,
   "metadata": {},
   "outputs": [
    {
     "name": "stdout",
     "output_type": "stream",
     "text": [
      "[[-0.32425014  0.56191069  0.12076539  1.28206945]\n",
      " [ 0.59663578 -1.38019047  1.7588912  -0.01129328]\n",
      " [ 0.59909299  0.58841457 -1.14823098  0.11249677]\n",
      " [ 1.68727833 -0.71386687  0.30283963  0.45599303]\n",
      " [-1.62280589  0.33310994  0.76869735 -0.44464619]\n",
      " [-0.28020223  0.74219786  0.88662946 -0.98202432]\n",
      " [-0.76006982 -1.03038359 -0.17506801  0.23763879]]\n",
      "[ True False False  True False False False]\n",
      "[[-0.32425014  0.56191069  0.12076539  1.28206945]\n",
      " [ 1.68727833 -0.71386687  0.30283963  0.45599303]]\n",
      "[[-0.32425014  0.56191069  0.12076539  1.28206945]\n",
      " [ 1.68727833 -0.71386687  0.30283963  0.45599303]]\n"
     ]
    }
   ],
   "source": [
    "# notice duplcates\n",
    "names = np.array(['Bob', 'Joe', 'Will', 'Bob', 'Will', 'Joe', 'Joe'])\n",
    "data = np.random.randn(7,4)\n",
    "print(data)\n",
    "\n",
    "# suppose each name corresponds to a data row and I want to select all rows matching 'Bob'\n",
    "print(names == 'Bob')\n",
    "# this \"boolean array\" can be passed when indexing\n",
    "print(data[names == 'Bob'])\n",
    "# equalivant to doing it manually:\n",
    "print(data[[True, False, False, True, False, False, False]])"
   ]
  },
  {
   "cell_type": "code",
   "execution_count": 41,
   "metadata": {},
   "outputs": [
    {
     "data": {
      "text/plain": [
       "array([[ 0.59663578, -1.38019047,  1.7588912 , -0.01129328],\n",
       "       [-0.28020223,  0.74219786,  0.88662946, -0.98202432],\n",
       "       [-0.76006982, -1.03038359, -0.17506801,  0.23763879]])"
      ]
     },
     "execution_count": 41,
     "metadata": {},
     "output_type": "execute_result"
    }
   ],
   "source": [
    "# I can also use boolean arithmetic\n",
    "# this gives me 'Joe' rows\n",
    "data[~(names == 'Bob') & ~(names == 'Will')]"
   ]
  },
  {
   "cell_type": "markdown",
   "metadata": {},
   "source": [
    "## Fancy indexing\n",
    "\n",
    "Not that much different from Boolean indexing.\n",
    "We just use integers instead of boolean True or False inside the array passed as \"index\""
   ]
  },
  {
   "cell_type": "code",
   "execution_count": 47,
   "metadata": {},
   "outputs": [
    {
     "name": "stdout",
     "output_type": "stream",
     "text": [
      "[[0. 0. 0. 0.]\n",
      " [1. 1. 1. 1.]\n",
      " [2. 2. 2. 2.]\n",
      " [3. 3. 3. 3.]\n",
      " [4. 4. 4. 4.]\n",
      " [5. 5. 5. 5.]\n",
      " [6. 6. 6. 6.]\n",
      " [7. 7. 7. 7.]]\n",
      "[[4. 4. 4. 4.]\n",
      " [3. 3. 3. 3.]\n",
      " [0. 0. 0. 0.]\n",
      " [6. 6. 6. 6.]]\n"
     ]
    }
   ],
   "source": [
    "arr = np.empty((8, 4))\n",
    "for i in range(8):\n",
    "    arr[i] = i\n",
    "    \n",
    "print(arr)\n",
    "\n",
    "# indexing using integers to get a particular rows in given order\n",
    "print(arr[[4, 3, 0, 6]])"
   ]
  },
  {
   "cell_type": "markdown",
   "metadata": {},
   "source": [
    "## Transposing and Swapping Axes\n",
    "\n",
    "Transposing makes no copies -> views.\n",
    "Very frequent for matrix computations."
   ]
  },
  {
   "cell_type": "code",
   "execution_count": 52,
   "metadata": {},
   "outputs": [
    {
     "name": "stdout",
     "output_type": "stream",
     "text": [
      "[[0. 0. 0. 0.]\n",
      " [1. 1. 1. 1.]\n",
      " [2. 2. 2. 2.]\n",
      " [3. 3. 3. 3.]\n",
      " [4. 4. 4. 4.]\n",
      " [5. 5. 5. 5.]\n",
      " [6. 6. 6. 6.]\n",
      " [7. 7. 7. 7.]]\n",
      "[[0. 1. 2. 3. 4. 5. 6. 7.]\n",
      " [0. 1. 2. 3. 4. 5. 6. 7.]\n",
      " [0. 1. 2. 3. 4. 5. 6. 7.]\n",
      " [0. 1. 2. 3. 4. 5. 6. 7.]]\n"
     ]
    }
   ],
   "source": [
    "# reshape just turns 1D array into 2D array\n",
    "ar = np.arange(15).reshape(3,5)\n",
    "print(arr)\n",
    "\n",
    "print(arr.T)"
   ]
  },
  {
   "cell_type": "code",
   "execution_count": 53,
   "metadata": {},
   "outputs": [
    {
     "data": {
      "text/plain": [
       "array([[140., 140., 140., 140.],\n",
       "       [140., 140., 140., 140.],\n",
       "       [140., 140., 140., 140.],\n",
       "       [140., 140., 140., 140.]])"
      ]
     },
     "execution_count": 53,
     "metadata": {},
     "output_type": "execute_result"
    }
   ],
   "source": [
    "# transpose is useful for instance for matrix product\n",
    "np.dot(arr.T, arr)"
   ]
  },
  {
   "cell_type": "markdown",
   "metadata": {},
   "source": [
    "## Array functions"
   ]
  },
  {
   "cell_type": "code",
   "execution_count": 54,
   "metadata": {},
   "outputs": [
    {
     "name": "stdout",
     "output_type": "stream",
     "text": [
      "[0.         1.         1.41421356 1.73205081 2.         2.23606798\n",
      " 2.44948974 2.64575131 2.82842712 3.        ]\n",
      "[1.00000000e+00 2.71828183e+00 7.38905610e+00 2.00855369e+01\n",
      " 5.45981500e+01 1.48413159e+02 4.03428793e+02 1.09663316e+03\n",
      " 2.98095799e+03 8.10308393e+03]\n",
      "[0.51451411 0.63171951 0.29147613 0.21327796 0.76957528 0.03907418\n",
      " 0.14564481 0.00765069 0.74922234 0.49655205]\n",
      "[0.4847496  0.27014652 0.31977199 0.99392781 0.74558582 0.76452399\n",
      " 0.83673547 0.58110085 0.05409756 0.55434295]\n",
      "[0.51451411 0.63171951 0.31977199 0.99392781 0.76957528 0.76452399\n",
      " 0.83673547 0.58110085 0.74922234 0.55434295]\n"
     ]
    }
   ],
   "source": [
    "# \"ufunc\" functions can operate as fast vectorized wrappers\n",
    "\n",
    "# from Python for Data Analysis (book)\n",
    "import numpy as np\n",
    "\n",
    "arr = np.arange(10)\n",
    "\n",
    "# unary\n",
    "print(np.sqrt(arr))\n",
    "print(np.exp(arr))\n",
    "\n",
    "# binary\n",
    "arr1 = np.random.rand(10)\n",
    "arr2 = np.random.rand(10)\n",
    "print(arr1)\n",
    "print(arr2)\n",
    "print(np.maximum(arr1, arr2))"
   ]
  },
  {
   "cell_type": "markdown",
   "metadata": {},
   "source": [
    "## 4.3 Array-Oriented Programming with Arrays"
   ]
  },
  {
   "cell_type": "code",
   "execution_count": 66,
   "metadata": {},
   "outputs": [
    {
     "name": "stdout",
     "output_type": "stream",
     "text": [
      "points:\n",
      " [-5.   -4.99 -4.98 -4.97 -4.96 -4.95 -4.94 -4.93 -4.92 -4.91 -4.9  -4.89\n",
      " -4.88 -4.87 -4.86 -4.85 -4.84 -4.83 -4.82 -4.81 -4.8  -4.79 -4.78 -4.77\n",
      " -4.76 -4.75 -4.74 -4.73 -4.72 -4.71 -4.7  -4.69 -4.68 -4.67 -4.66 -4.65\n",
      " -4.64 -4.63 -4.62 -4.61 -4.6  -4.59 -4.58 -4.57 -4.56 -4.55 -4.54 -4.53\n",
      " -4.52 -4.51]\n",
      "xs:\n",
      " [[-5.   -4.99 -4.98 ...  4.97  4.98  4.99]\n",
      " [-5.   -4.99 -4.98 ...  4.97  4.98  4.99]\n",
      " [-5.   -4.99 -4.98 ...  4.97  4.98  4.99]\n",
      " ...\n",
      " [-5.   -4.99 -4.98 ...  4.97  4.98  4.99]\n",
      " [-5.   -4.99 -4.98 ...  4.97  4.98  4.99]\n",
      " [-5.   -4.99 -4.98 ...  4.97  4.98  4.99]]\n",
      "ys:\n",
      " [[-5.   -5.   -5.   ... -5.   -5.   -5.  ]\n",
      " [-4.99 -4.99 -4.99 ... -4.99 -4.99 -4.99]\n",
      " [-4.98 -4.98 -4.98 ... -4.98 -4.98 -4.98]\n",
      " ...\n",
      " [ 4.97  4.97  4.97 ...  4.97  4.97  4.97]\n",
      " [ 4.98  4.98  4.98 ...  4.98  4.98  4.98]\n",
      " [ 4.99  4.99  4.99 ...  4.99  4.99  4.99]]\n",
      "z:\n",
      " [[7.07106781 7.06400028 7.05693985 ... 7.04988652 7.05693985 7.06400028]\n",
      " [7.06400028 7.05692568 7.04985815 ... 7.04279774 7.04985815 7.05692568]\n",
      " [7.05693985 7.04985815 7.04278354 ... 7.03571603 7.04278354 7.04985815]\n",
      " ...\n",
      " [7.04988652 7.04279774 7.03571603 ... 7.0286414  7.03571603 7.04279774]\n",
      " [7.05693985 7.04985815 7.04278354 ... 7.03571603 7.04278354 7.04985815]\n",
      " [7.06400028 7.05692568 7.04985815 ... 7.04279774 7.04985815 7.05692568]]\n"
     ]
    }
   ],
   "source": [
    "# meshgrid can combine two 1D arrays into a 2D array with all pairs (x,y) created from the input arrays\n",
    "import numpy as np\n",
    "points = np.arange(-5, 5, 0.01) # 1000 equally spaced points\n",
    "\n",
    "print(\"points:\\n\", points[:50])\n",
    "\n",
    "xs, ys = np.meshgrid(points, points)\n",
    "\n",
    "print(\"xs:\\n\", xs)\n",
    "print(\"ys:\\n\", ys)\n",
    "\n",
    "z = np.sqrt(xs ** 2 + ys ** 2)\n",
    "print(\"z:\\n\", z)"
   ]
  },
  {
   "cell_type": "code",
   "execution_count": 70,
   "metadata": {},
   "outputs": [
    {
     "data": {
      "text/plain": [
       "Text(0.5, 1.0, 'Image plot of $\\\\sqrt{x^2 + y^2}$ for a gridof values')"
      ]
     },
     "execution_count": 70,
     "metadata": {},
     "output_type": "execute_result"
    },
    {
     "data": {
      "image/png": "[encoded data removed]",
      "text/plain": [
       "<Figure size 432x288 with 2 Axes>"
      ]
     },
     "metadata": {
      "needs_background": "light"
     },
     "output_type": "display_data"
    }
   ],
   "source": [
    "# now visualize it!\n",
    "import matplotlib.pyplot as plt \n",
    "plt.imshow(z, cmap=plt.cm.gray)\n",
    "plt.colorbar()\n",
    "plt.title(\"Image plot of $\\sqrt{x^2 + y^2}$ for a gridof values\")"
   ]
  },
  {
   "cell_type": "markdown",
   "metadata": {},
   "source": [
    "### Conditional logic as array operations - where, et. al"
   ]
  },
  {
   "cell_type": "code",
   "execution_count": 73,
   "metadata": {},
   "outputs": [
    {
     "name": "stdout",
     "output_type": "stream",
     "text": [
      "[1.1 2.2 1.3 1.4 2.5]\n"
     ]
    }
   ],
   "source": [
    "# where is similar to ternary operator but oeprates on arrays\n",
    "import numpy as np\n",
    "xarr = np.array([1.1, 1.2, 1.3, 1.4, 1.5])\n",
    "yarr = np.array([2.1, 2.2, 2.3, 2.4, 2.5])\n",
    "cond = ([True, False, True, True, False])\n",
    "\n",
    "# now we may take value from xarr whenever corresponding cond value is True, \n",
    "# and from yarr when it's False\n",
    "print(np.where(cond, xarr, yarr))"
   ]
  },
  {
   "cell_type": "code",
   "execution_count": 76,
   "metadata": {},
   "outputs": [
    {
     "name": "stdout",
     "output_type": "stream",
     "text": [
      "arr:\n",
      " [[ 2.32529853e+00 -1.66979857e-01 -1.49659163e+00 -1.52738292e-01]\n",
      " [-4.19557538e-01  1.00116217e+00 -1.00996757e+00 -4.03922433e-01]\n",
      " [ 1.47612537e+00 -9.60593113e-01 -6.60915068e-01  6.57994699e-01]\n",
      " [-1.61910709e-01 -1.80547778e-03  1.18379015e+00  1.41539252e+00]]\n",
      "arr > 0:\n",
      " [[ True False False False]\n",
      " [False  True False False]\n",
      " [ True False False  True]\n",
      " [False False  True  True]]\n",
      "replaced:\n",
      " [[ 2 -2 -2 -2]\n",
      " [-2  2 -2 -2]\n",
      " [ 2 -2 -2  2]\n",
      " [-2 -2  2  2]]\n"
     ]
    }
   ],
   "source": [
    "# where also work with scalars!\n",
    "\n",
    "# here we replace all positive values with 2, otherwise -2\n",
    "arr = np.random.randn(4,4)\n",
    "print(\"arr:\\n\", arr)\n",
    "print(\"arr > 0:\\n\", arr > 0)\n",
    "\n",
    "replaced = np.where(arr > 0, 2, -2)\n",
    "print(\"replaced:\\n\", replaced)\n"
   ]
  },
  {
   "cell_type": "markdown",
   "metadata": {},
   "source": [
    "### Mathematical and Statistical Methods"
   ]
  },
  {
   "cell_type": "code",
   "execution_count": 86,
   "metadata": {},
   "outputs": [
    {
     "name": "stdout",
     "output_type": "stream",
     "text": [
      "arr:\n",
      " [[0.90488825 0.39707225 0.60352579 0.79985285]\n",
      " [0.9644304  0.65054605 0.04941895 0.71008322]\n",
      " [0.84902355 0.44857842 0.37395537 0.3863937 ]\n",
      " [0.04676244 0.3491553  0.7562931  0.46007026]\n",
      " [0.38642108 0.38282867 0.31957368 0.38662657]]\n",
      "mean:  0.5112749957464817\n",
      "sum:  10.225499914929635\n",
      "std:  0.2528719109192659\n",
      "mean axis=0:  [0.63030515 0.44563614 0.42055338 0.54860532]\n",
      "mean axis=1:  [0.67633479 0.59361966 0.51448776 0.40307028 0.3688625 ]\n"
     ]
    }
   ],
   "source": [
    "arr = np.random.rand(5,4)\n",
    "print(\"arr:\\n\", arr)\n",
    "\n",
    "print(\"mean: \", arr.mean())\n",
    "print(\"sum: \", arr.sum())\n",
    "print(\"std: \", arr.std())\n",
    "\n",
    "# or use optional axis arg to compute statistic over the specific axis\n",
    "# => result is an array with one fewer dimension\n",
    "print(\"mean axis=0: \", arr.mean(axis=0)) # mean across the rows\n",
    "print(\"mean axis=1: \", arr.mean(axis=1)) # mean across the columsn"
   ]
  },
  {
   "cell_type": "code",
   "execution_count": 93,
   "metadata": {},
   "outputs": [
    {
     "name": "stdout",
     "output_type": "stream",
     "text": [
      "arr:\n",
      " [0 1 2 3 4 5 6 7]\n",
      "cumsum:\n",
      " [ 0  1  3  6 10 15 21 28]\n",
      "arr2:\n",
      " [[0 1 2]\n",
      " [3 4 5]\n",
      " [6 7 8]]\n",
      "cumprod axis=1:\n",
      " [[  0   0   0]\n",
      " [  3  12  60]\n",
      " [  6  42 336]]\n"
     ]
    }
   ],
   "source": [
    "# cumsum and cumprod don't aggregate; \n",
    "# they produce an array of intermediate results (cummulative sum/product)\n",
    "arr = np.array([0,1,2,3,4,5,6,7])\n",
    "print(\"arr:\\n\", arr)\n",
    "\n",
    "print(\"cumsum:\\n\", arr.cumsum())\n",
    "\n",
    "# optional axis arg\n",
    "arr2 = np.array([[0,1,2], [3,4,5], [6,7,8]])\n",
    "print(\"arr2:\\n\", arr2)\n",
    "print(\"cumprod axis=1:\\n\", arr2.cumprod(axis=1))"
   ]
  },
  {
   "cell_type": "markdown",
   "metadata": {},
   "source": [
    "### Sorting"
   ]
  },
  {
   "cell_type": "code",
   "execution_count": 106,
   "metadata": {},
   "outputs": [
    {
     "name": "stdout",
     "output_type": "stream",
     "text": [
      "[-0.33426265 -1.1811054   0.34980744 -2.22528514  0.5314163   1.09964354]\n",
      "[-2.22528514 -1.1811054  -0.33426265  0.34980744  0.5314163   1.09964354]\n",
      "[[0.96961791 0.11268705 0.83715525]\n",
      " [0.14101328 0.2795244  0.45123091]\n",
      " [0.62251845 0.81320384 0.83449767]\n",
      " [0.82998121 0.13321194 0.57441591]\n",
      " [0.58550405 0.2316222  0.00236969]]\n",
      "sorted 2D array:\n",
      " [[0.11268705 0.83715525 0.96961791]\n",
      " [0.14101328 0.2795244  0.45123091]\n",
      " [0.62251845 0.81320384 0.83449767]\n",
      " [0.13321194 0.57441591 0.82998121]\n",
      " [0.00236969 0.2316222  0.58550405]]\n"
     ]
    }
   ],
   "source": [
    "arr = np.random.randn(6)\n",
    "print(arr)\n",
    "arr.sort()\n",
    "print(arr)\n",
    "\n",
    "# sorting multidimensional array\n",
    "arr = np.random.rand(5,3)\n",
    "print(arr)\n",
    "# notice we pass axis number to sort\n",
    "arr.sort(1)\n",
    "print(\"sorted 2D array:\\n\", arr)\n"
   ]
  },
  {
   "cell_type": "code",
   "execution_count": 115,
   "metadata": {},
   "outputs": [
    {
     "name": "stdout",
     "output_type": "stream",
     "text": [
      "index:  50\n"
     ]
    },
    {
     "data": {
      "text/plain": [
       "0.03974555655511214"
      ]
     },
     "execution_count": 115,
     "metadata": {},
     "output_type": "execute_result"
    }
   ],
   "source": [
    "# quick and dirty method to find quantiles of an array\n",
    "large_arr = np.random.rand(1000)\n",
    "large_arr.sort()\n",
    "# compute 5% quantile:\n",
    "idx05 = int(0.05 * len(large_arr))\n",
    "print(\"index: \", idx05)\n",
    "large_arr[idx05]"
   ]
  },
  {
   "cell_type": "markdown",
   "metadata": {},
   "source": [
    "## 4.5 Linear Algebra"
   ]
  },
  {
   "cell_type": "code",
   "execution_count": 118,
   "metadata": {},
   "outputs": [
    {
     "data": {
      "text/plain": [
       "array([[ 28.,  64.],\n",
       "       [ 67., 181.]])"
      ]
     },
     "execution_count": 118,
     "metadata": {},
     "output_type": "execute_result"
    }
   ],
   "source": [
    "# * is an element-wise product instead of a matrix dot product\n",
    "# => use dot function\n",
    "x = np.array([[1.,2.,3.], [4.,5.,6.]])\n",
    "y = np.array([[6.,23.], [-1,7], [8,9]])\n",
    "\n",
    "x.dot(y)"
   ]
  },
  {
   "cell_type": "code",
   "execution_count": 119,
   "metadata": {},
   "outputs": [
    {
     "name": "stdout",
     "output_type": "stream",
     "text": [
      "X:\n",
      " [[0.25362292 0.53598599 0.89486715 0.29089807 0.19420602]\n",
      " [0.99585649 0.7966372  0.13224231 0.33905851 0.07208244]\n",
      " [0.89877984 0.34073583 0.04949784 0.28943388 0.44914233]\n",
      " [0.06542526 0.27979856 0.48521041 0.22819981 0.71925143]\n",
      " [0.14475781 0.71609934 0.45062465 0.04299463 0.35317969]]\n",
      "mat:\n",
      " [[1.88909523 1.35748801 0.5001173  0.69272321 0.62290166]\n",
      " [1.35748801 1.62909821 1.06030427 0.6192828  0.7687114 ]\n",
      " [0.5001173  1.06030427 1.25921701 0.44957872 0.71369227]\n",
      " [0.69272321 0.6192828  0.44957872 0.33727802 0.3902492 ]\n",
      " [0.62290166 0.7687114  0.71369227 0.3902492  0.8866992 ]]\n",
      "inv(mat):\n",
      " [[ 18.86748281 -10.81741026  15.2926774  -41.86661513   2.24092624]\n",
      " [-10.81741026   8.65462008  -9.67224965  20.58076848  -1.17665705]\n",
      " [ 15.2926774   -9.67224965  14.47115628 -34.09810875   1.00162672]\n",
      " [-41.86661513  20.58076848 -34.09810875 104.88691178  -7.14826827]\n",
      " [  2.24092624  -1.17665705   1.00162672  -7.14826827   2.91348601]]\n"
     ]
    }
   ],
   "source": [
    "from numpy.linalg import inv,qr\n",
    "X = np.random.rand(5,5)\n",
    "print(\"X:\\n\", X)\n",
    "mat = X.T.dot(X)\n",
    "print(\"mat:\\n\", mat)\n",
    "print(\"inv(mat):\\n\", inv(mat))\n"
   ]
  },
  {
   "cell_type": "markdown",
   "metadata": {},
   "source": [
    "## 4.6 Pseudo-random Number Generation"
   ]
  },
  {
   "cell_type": "code",
   "execution_count": 121,
   "metadata": {},
   "outputs": [
    {
     "data": {
      "text/plain": [
       "array([[-1.67918962,  0.82734286,  0.44033389, -1.01872576],\n",
       "       [-0.10634732, -0.47210972, -1.04728617,  2.28031788],\n",
       "       [ 1.06758074, -1.76561422, -0.00837898,  0.34952703],\n",
       "       [ 0.83934057,  1.54474729, -0.83749393,  0.79683009]])"
      ]
     },
     "execution_count": 121,
     "metadata": {},
     "output_type": "execute_result"
    }
   ],
   "source": [
    "# numpy's random generators sample the whole distribution \n",
    "# (not just a single value at a time like Python's buildin random module)\n",
    "# It's also much faster!\n",
    "np.random.normal(size=(4,4))"
   ]
  },
  {
   "cell_type": "markdown",
   "metadata": {},
   "source": [
    "## Ch 4.7 - Example: Random Walks"
   ]
  },
  {
   "cell_type": "code",
   "execution_count": 125,
   "metadata": {},
   "outputs": [
    {
     "data": {
      "text/plain": [
       "[<matplotlib.lines.Line2D at 0x7fc645e0bb90>]"
      ]
     },
     "execution_count": 125,
     "metadata": {},
     "output_type": "execute_result"
    },
    {
     "data": {
      "image/png": "[encoded data removed]",
      "text/plain": [
       "<Figure size 432x288 with 1 Axes>"
      ]
     },
     "metadata": {
      "needs_background": "light"
     },
     "output_type": "display_data"
    }
   ],
   "source": [
    "# simple random walk starting at 0 with steps of 1 and -1, equal probability\n",
    "import random\n",
    "position = 0\n",
    "walk =[position]\n",
    "steps = 1000\n",
    "for i in range(steps):\n",
    "    # random.randint(0,1) generates either 0 or 1\n",
    "    step = 1 if random.randint(0,1) else -1\n",
    "    position += step\n",
    "    walk.append(position)\n",
    "\n",
    "plt.plot(walk[:100])"
   ]
  },
  {
   "cell_type": "code",
   "execution_count": 141,
   "metadata": {},
   "outputs": [
    {
     "name": "stdout",
     "output_type": "stream",
     "text": [
      "min:  -19\n",
      "max:  41\n",
      "first crossing time:  275\n",
      "element at first crossing time index:  -10\n"
     ]
    },
    {
     "data": {
      "image/png": "[encoded data removed]",
      "text/plain": [
       "<Figure size 432x288 with 1 Axes>"
      ]
     },
     "metadata": {
      "needs_background": "light"
     },
     "output_type": "display_data"
    }
   ],
   "source": [
    "# the previous example is the same as computing \"cumulative sum\":\n",
    "nsteps = 1000\n",
    "draws = np.random.randint(0,2, size=nsteps)\n",
    "steps = np.where(draws >0, 1, -1)\n",
    "walk = steps.cumsum()\n",
    "\n",
    "plt.plot(walk[:100])\n",
    "\n",
    "# now we can extract statistics like min, max\n",
    "print(\"min: \", walk.min())\n",
    "print(\"max: \", walk.max())\n",
    "\n",
    "# or even \"first crossing time\"\n",
    "# - the step at which the random walk reaches given value\n",
    "# notice using `argmax` which returns the first index of the\n",
    "# maxium value in the boolean array (True is the max value)\n",
    "first_crossing_time_10 = (np.abs(walk) >= 10).argmax()\n",
    "print(\"first crossing time: \", first_crossing_time_10)\n",
    "# this will be 10 or -10\n",
    "print(\"element at first crossing time index: \", walk[first_crossing_time_10])"
   ]
  },
  {
   "cell_type": "code",
   "execution_count": null,
   "metadata": {},
   "outputs": [],
   "source": []
  },
  {
   "cell_type": "code",
   "execution_count": null,
   "metadata": {},
   "outputs": [],
   "source": []
  },
  {
   "cell_type": "code",
   "execution_count": null,
   "metadata": {},
   "outputs": [],
   "source": []
  }
 ],
 "metadata": {
  "kernelspec": {
   "display_name": "Python 3",
   "language": "python",
   "name": "python3"
  },
  "language_info": {
   "codemirror_mode": {
    "name": "ipython",
    "version": 3
   },
   "file_extension": ".py",
   "mimetype": "text/x-python",
   "name": "python",
   "nbconvert_exporter": "python",
   "pygments_lexer": "ipython3",
   "version": "3.7.6"
  }
 },
 "nbformat": 4,
 "nbformat_minor": 4
}
