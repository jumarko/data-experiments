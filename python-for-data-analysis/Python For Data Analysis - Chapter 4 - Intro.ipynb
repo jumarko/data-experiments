{
 "cells": [
  {
   "cell_type": "markdown",
   "metadata": {},
   "source": [
    "## Why is NumPy fast?\n",
    "Because it uses contiguous arrays and algorithms written in C operating on those arrays without overhead\n"
   ]
  },
  {
   "cell_type": "code",
   "execution_count": 23,
   "metadata": {},
   "outputs": [
    {
     "name": "stdout",
     "output_type": "stream",
     "text": [
      "CPU times: user 14.5 ms, sys: 8.33 ms, total: 22.8 ms\n",
      "Wall time: 22.8 ms\n",
      "CPU times: user 570 ms, sys: 113 ms, total: 683 ms\n",
      "Wall time: 683 ms\n",
      "CPU times: user 128 ms, sys: 416 µs, total: 128 ms\n",
      "Wall time: 128 ms\n"
     ]
    }
   ],
   "source": [
    "# from Python for Data Analysis (book)\n",
    "import numpy as np\n",
    "\n",
    "my_arr = np.arange(1000000)\n",
    "my_list = list(range(1000000))\n",
    "\n",
    "%time for _ in range(10): my_arr2 = my_arr * 2\n",
    "    \n",
    "%time for _ in range(10): my_list2 = [x * 2 for x in my_list]\n",
    "\n",
    "# what if we try to do in-place mutation?\n",
    "%time for i in range(1000000): my_list[i] = my_list[i] * 2"
   ]
  },
  {
   "cell_type": "code",
   "execution_count": 33,
   "metadata": {},
   "outputs": [
    {
     "name": "stdout",
     "output_type": "stream",
     "text": [
      "CPU times: user 2.68 ms, sys: 501 ms, total: 504 ms\n",
      "Wall time: 505 ms\n",
      "CPU times: user 2.13 s, sys: 1.82 s, total: 3.96 s\n",
      "Wall time: 4.01 s\n"
     ]
    }
   ],
   "source": [
    "# try something really large\n",
    "import numpy as np\n",
    "\n",
    "# 1,000,000 elements\n",
    "my_arr = np.arange(1000000)\n",
    "%time  my_arr2 = my_arr * 2\n",
    "\n",
    "# 1000,000,000 elements\n",
    "my_arr = np.arange(1000000000)\n",
    "%time  my_arr2 = my_arr * 2"
   ]
  },
  {
   "cell_type": "code",
   "execution_count": 50,
   "metadata": {},
   "outputs": [
    {
     "name": "stdout",
     "output_type": "stream",
     "text": [
      "CPU times: user 15.3 ms, sys: 5.98 ms, total: 21.3 ms\n",
      "Wall time: 21.8 ms\n",
      "100200100\n"
     ]
    }
   ],
   "source": [
    "# Now try less trivial multiplication because *2 can be very well optimized\n",
    "my_arr = np.arange(1000000)\n",
    "\n",
    "%time for _ in range(10): my_arr2 = my_arr * my_arr\n",
    "print(my_arr2[10010])    \n",
    "#=> still very fast!"
   ]
  },
  {
   "cell_type": "code",
   "execution_count": null,
   "metadata": {},
   "outputs": [],
   "source": []
  },
  {
   "cell_type": "code",
   "execution_count": null,
   "metadata": {},
   "outputs": [],
   "source": []
  }
 ],
 "metadata": {
  "kernelspec": {
   "display_name": "Python 3",
   "language": "python",
   "name": "python3"
  },
  "language_info": {
   "codemirror_mode": {
    "name": "ipython",
    "version": 3
   },
   "file_extension": ".py",
   "mimetype": "text/x-python",
   "name": "python",
   "nbconvert_exporter": "python",
   "pygments_lexer": "ipython3",
   "version": "3.7.6"
  }
 },
 "nbformat": 4,
 "nbformat_minor": 4
}
