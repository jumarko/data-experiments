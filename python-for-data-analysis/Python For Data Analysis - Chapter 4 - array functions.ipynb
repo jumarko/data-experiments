{
 "cells": [
  {
   "cell_type": "code",
   "execution_count": 15,
   "metadata": {},
   "outputs": [
    {
     "name": "stdout",
     "output_type": "stream",
     "text": [
      "[0.         1.         1.41421356 1.73205081 2.         2.23606798\n",
      " 2.44948974 2.64575131 2.82842712 3.        ]\n",
      "[1.00000000e+00 2.71828183e+00 7.38905610e+00 2.00855369e+01\n",
      " 5.45981500e+01 1.48413159e+02 4.03428793e+02 1.09663316e+03\n",
      " 2.98095799e+03 8.10308393e+03]\n",
      "[0.36951169 0.85585406 0.52255466 0.67182396 0.05142762 0.3183453\n",
      " 0.37866958 0.08255471 0.05254196 0.45697902]\n",
      "[0.61502354 0.82305943 0.47178345 0.19824736 0.68255488 0.57428513\n",
      " 0.42586861 0.53965179 0.06377534 0.67047114]\n",
      "[0.61502354 0.85585406 0.52255466 0.67182396 0.68255488 0.57428513\n",
      " 0.42586861 0.53965179 0.06377534 0.67047114]\n"
     ]
    }
   ],
   "source": [
    "# \"ufunc\" functions can operate as fast vectorized wrappers\n",
    "\n",
    "# from Python for Data Analysis (book)\n",
    "import numpy as np\n",
    "\n",
    "arr = np.arange(10)\n",
    "\n",
    "# unary\n",
    "print(np.sqrt(arr))\n",
    "print(np.exp(arr))\n",
    "\n",
    "# binary\n",
    "arr1 = np.random.rand(10)\n",
    "arr2 = np.random.rand(10)\n",
    "print(arr1)\n",
    "print(arr2)\n",
    "print(np.maximum(arr1, arr2))\n"
   ]
  },
  {
   "cell_type": "code",
   "execution_count": null,
   "metadata": {},
   "outputs": [],
   "source": []
  }
 ],
 "metadata": {
  "kernelspec": {
   "display_name": "Python 3",
   "language": "python",
   "name": "python3"
  },
  "language_info": {
   "codemirror_mode": {
    "name": "ipython",
    "version": 3
   },
   "file_extension": ".py",
   "mimetype": "text/x-python",
   "name": "python",
   "nbconvert_exporter": "python",
   "pygments_lexer": "ipython3",
   "version": "3.7.6"
  }
 },
 "nbformat": 4,
 "nbformat_minor": 4
}
